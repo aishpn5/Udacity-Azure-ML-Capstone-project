{
  "cells": [
    {
      "cell_type": "markdown",
      "source": [
        "# Automated ML\n",
        "\n",
        "TODO: Import Dependencies. In the cell below, import all the dependencies that you will need to complete the project."
      ],
      "metadata": {}
    },
    {
      "cell_type": "markdown",
      "source": [
        "## Dataset\n",
        "\n",
        "### Overview\n",
        "TODO: In this markdown cell, give an overview of the dataset you are using. Also mention the task you will be performing.\n",
        "\n",
        "\n",
        "TODO: Get data. In the cell below, write code to access the data you will be using in this project. Remember that the dataset needs to be external."
      ],
      "metadata": {}
    },
    {
      "cell_type": "code",
      "source": [
        "from azureml.core.experiment import Experiment\n",
        "from azureml.core.workspace import Workspace\n",
        "\n",
        "ws = Workspace.from_config()\n",
        "\n",
        "experiment_name = 'Automlrun'\n",
        "\n",
        "experiment=Experiment(ws, experiment_name)"
      ],
      "outputs": [],
      "execution_count": 1,
      "metadata": {
        "gather": {
          "logged": 1617517040075
        },
        "jupyter": {
          "outputs_hidden": false,
          "source_hidden": false
        },
        "nteract": {
          "transient": {
            "deleting": false
          }
        }
      }
    },
    {
      "cell_type": "code",
      "source": [
        "from azureml.core.compute import ComputeTarget, AmlCompute\n",
        "from azureml.core.compute_target import ComputeTargetException\n",
        "\n",
        "compute_cluster_name = 'p12'\n",
        "\n",
        "try:\n",
        "    compute_target = ComputeTarget(workspace=ws, name = compute_cluster_name)\n",
        "    print('Found the compute cluster')\n",
        "\n",
        "except ComputeTargetException:\n",
        "    compute_config = AmlCompute.provisioning_configuration(vm_size=\"STANDARD_D3_V2\", max_nodes=4)\n",
        "    compute_target = ComputeTarget.create(ws, compute_cluster_name, compute_config)\n",
        "    compute_target.wait_for_completion(show_output=True)"
      ],
      "outputs": [
        {
          "output_type": "stream",
          "name": "stdout",
          "text": [
            "Found the compute cluster\n"
          ]
        }
      ],
      "execution_count": 2,
      "metadata": {
        "collapsed": true,
        "jupyter": {
          "source_hidden": false,
          "outputs_hidden": false
        },
        "nteract": {
          "transient": {
            "deleting": false
          }
        },
        "gather": {
          "logged": 1617517042591
        }
      }
    },
    {
      "cell_type": "code",
      "source": [
        "from azureml.core.dataset import Dataset\r\n",
        "from sklearn.model_selection import train_test_split\r\n",
        "\r\n",
        "key = 'heart_failure_clinical_records_dataset'\r\n",
        "if key in ws.datasets.keys():\r\n",
        "    dataset = ws.datasets[key]\r\n",
        "    print(\"dataset found!\")\r\n",
        "\r\n",
        "else:\r\n",
        "    url = 'https://archive.ics.uci.edu/ml/machine-learning-databases/00519/heart_failure_clinical_records_dataset.csv'\r\n",
        "    dataset = Dataset.Tabular.from_delimited_files(url)\r\n",
        "    dataset = dataset.register(ws,key)\r\n",
        "\r\n",
        "df = dataset.to_pandas_dataframe()\r\n",
        "train, test = train_test_split(df, shuffle=True)\r\n",
        "train.to_csv('train.csv',index = False)\r\n",
        "\r\n",
        "datastore = ws.get_default_datastore()\r\n",
        "datastore.upload_files(files = ['./train.csv'])\r\n",
        "\r\n",
        "train = Dataset.Tabular.from_delimited_files([(datastore,'train.csv')])"
      ],
      "outputs": [
        {
          "output_type": "stream",
          "name": "stdout",
          "text": [
            "dataset found!\n",
            "Uploading an estimated of 1 files\n",
            "Target already exists. Skipping upload for train.csv\n",
            "Uploaded 0 files\n"
          ]
        }
      ],
      "execution_count": 3,
      "metadata": {
        "collapsed": true,
        "jupyter": {
          "source_hidden": false,
          "outputs_hidden": false
        },
        "nteract": {
          "transient": {
            "deleting": false
          }
        },
        "gather": {
          "logged": 1617517057224
        }
      }
    },
    {
      "cell_type": "markdown",
      "source": [
        "## AutoML Configuration\n",
        "\n",
        "TODO: Explain why you chose the automl settings and cofiguration you used below."
      ],
      "metadata": {}
    },
    {
      "cell_type": "code",
      "source": [
        "from azureml.train.automl import AutoMLConfig\n",
        "\n",
        "# TODO: Put your automl settings here\n",
        "automl_settings = {\"primary_metric\":\"accuracy\", \"experiment_timeout_minutes\":30, \"enable_early_stopping\":True, \"n_cross_validations\":3,\"max_concurrent_iterations\": 4}\n",
        "\n",
        "# TODO: Put your automl config here\n",
        "automl_config = AutoMLConfig(compute_target = compute_target, task = 'classification', training_data = train, label_column_name = 'DEATH_EVENT',blocked_models=['XGBoostClassifier'],**automl_settings)"
      ],
      "outputs": [],
      "execution_count": 4,
      "metadata": {
        "gather": {
          "logged": 1617517059005
        },
        "jupyter": {
          "outputs_hidden": false,
          "source_hidden": false
        },
        "nteract": {
          "transient": {
            "deleting": false
          }
        }
      }
    },
    {
      "cell_type": "code",
      "source": [
        "# TODO: Submit your experiment\n",
        "remote_run = experiment.submit(automl_config, show_output=True)"
      ],
      "outputs": [
        {
          "output_type": "stream",
          "name": "stdout",
          "text": [
            "Running on remote.\n",
            "No run_configuration provided, running on p12 with default configuration\n",
            "Running on remote compute: p12\n",
            "Parent Run ID: AutoML_d22489fc-a63f-41bb-9d47-f59ae655801d\n",
            "\n",
            "Current status: FeaturesGeneration. Generating features for the dataset.\n",
            "Current status: ModelSelection. Beginning model selection.\n",
            "\n",
            "****************************************************************************************************\n",
            "DATA GUARDRAILS: \n",
            "\n",
            "TYPE:         Class balancing detection\n",
            "STATUS:       PASSED\n",
            "DESCRIPTION:  Your inputs were analyzed, and all classes are balanced in your training data.\n",
            "              Learn more about imbalanced data: https://aka.ms/AutomatedMLImbalancedData\n",
            "\n",
            "****************************************************************************************************\n",
            "\n",
            "TYPE:         Missing feature values imputation\n",
            "STATUS:       PASSED\n",
            "DESCRIPTION:  No feature missing values were detected in the training data.\n",
            "              Learn more about missing value imputation: https://aka.ms/AutomatedMLFeaturization\n",
            "\n",
            "****************************************************************************************************\n",
            "\n",
            "TYPE:         High cardinality feature detection\n",
            "STATUS:       PASSED\n",
            "DESCRIPTION:  Your inputs were analyzed, and no high cardinality features were detected.\n",
            "              Learn more about high cardinality feature handling: https://aka.ms/AutomatedMLFeaturization\n",
            "\n",
            "****************************************************************************************************\n",
            "\n",
            "****************************************************************************************************\n",
            "ITERATION: The iteration being evaluated.\n",
            "PIPELINE: A summary description of the pipeline being evaluated.\n",
            "DURATION: Time taken for the current iteration.\n",
            "METRIC: The result of computing score on the fitted pipeline.\n",
            "BEST: The best observed score thus far.\n",
            "****************************************************************************************************\n",
            "\n",
            " ITERATION   PIPELINE                                       DURATION      METRIC      BEST\n",
            "         2   MinMaxScaler RandomForest                      0:00:42       0.7902    0.7902\n",
            "         1   MinMaxScaler RandomForest                      0:00:48       0.8083    0.8083\n",
            "         0   MaxAbsScaler LightGBM                          0:00:39       0.7949    0.8083\n",
            "         3   MinMaxScaler RandomForest                      0:00:37       0.8215    0.8215\n",
            "         4   MinMaxScaler RandomForest                      0:00:42       0.7949    0.8215\n",
            "         5   MinMaxScaler SVM                               0:00:41       0.7097    0.8215\n",
            "         6   MinMaxScaler SVM                               0:00:46       0.7230    0.8215\n",
            "         7   MinMaxScaler SVM                               0:00:41       0.7099    0.8215\n",
            "         8   RobustScaler SVM                               0:00:41       0.7456    0.8215\n",
            "         9   MaxAbsScaler RandomForest                      0:00:51       0.7634    0.8215\n",
            "        10   StandardScalerWrapper GradientBoosting         0:00:53       0.8438    0.8438\n",
            "        11   StandardScalerWrapper LightGBM                 0:00:44       0.8081    0.8438\n",
            "        12   RobustScaler RandomForest                      0:00:44       0.8393    0.8438\n",
            "        13   MinMaxScaler LightGBM                          0:00:43       0.7725    0.8438\n",
            "        14   MaxAbsScaler ExtremeRandomTrees                0:00:46       0.8082    0.8438\n",
            "        15   StandardScalerWrapper LightGBM                 0:00:52       0.8038    0.8438\n",
            "        16   StandardScalerWrapper ExtremeRandomTrees       0:00:43       0.6920    0.8438\n",
            "        17   MaxAbsScaler ExtremeRandomTrees                0:00:37       0.8081    0.8438\n",
            "        18   StandardScalerWrapper LightGBM                 0:00:47       0.8261    0.8438\n",
            "        19   RobustScaler LightGBM                          0:00:47       0.7545    0.8438\n",
            "        20   MaxAbsScaler LightGBM                          0:00:37       0.8306    0.8438\n",
            "        21   StandardScalerWrapper LightGBM                 0:00:43       0.8216    0.8438\n",
            "        22   SparseNormalizer KNN                           0:00:47       0.7322    0.8438\n",
            "        23   MaxAbsScaler LightGBM                          0:00:42       0.7231    0.8438\n",
            "        24   StandardScalerWrapper LightGBM                 0:00:42       0.7321    0.8438\n",
            "        25   RobustScaler GradientBoosting                  0:00:42       0.8438    0.8438\n",
            "        26   SparseNormalizer ExtremeRandomTrees            0:00:41       0.7187    0.8438\n",
            "        27   StandardScalerWrapper LightGBM                 0:00:41       0.8216    0.8438\n",
            "        28   SparseNormalizer LightGBM                      0:00:46       0.8127    0.8438\n",
            "        29   MaxAbsScaler LightGBM                          0:00:49       0.8126    0.8438\n",
            "        30   RobustScaler GradientBoosting                  0:00:45       0.8350    0.8438\n",
            "        31                                                  0:03:22          nan    0.8438\n",
            "ERROR: {\n",
            "    \"additional_properties\": {},\n",
            "    \"error\": {\n",
            "        \"additional_properties\": {\n",
            "            \"debugInfo\": null\n",
            "        },\n",
            "        \"code\": \"UserError\",\n",
            "        \"severity\": null,\n",
            "        \"message\": \"Experiment timeout reached, please consider increasing your experiment timeout.\",\n",
            "        \"message_format\": \"Experiment timeout reached, please consider increasing your experiment timeout.\",\n",
            "        \"message_parameters\": {},\n",
            "        \"reference_code\": null,\n",
            "        \"details_uri\": null,\n",
            "        \"target\": null,\n",
            "        \"details\": [],\n",
            "        \"inner_error\": {\n",
            "            \"additional_properties\": {},\n",
            "            \"code\": \"ResourceExhausted\",\n",
            "            \"inner_error\": {\n",
            "                \"additional_properties\": {},\n",
            "                \"code\": \"Timeout\",\n",
            "                \"inner_error\": {\n",
            "                    \"additional_properties\": {},\n",
            "                    \"code\": \"ExperimentTimeoutForIterations\",\n",
            "                    \"inner_error\": null\n",
            "                }\n",
            "            }\n",
            "        }\n",
            "    },\n",
            "    \"correlation\": null,\n",
            "    \"environment\": null,\n",
            "    \"location\": null,\n",
            "    \"time\": {},\n",
            "    \"component_name\": null\n",
            "}\n",
            "        32                                                  0:02:25          nan    0.8438\n",
            "ERROR: {\n",
            "    \"additional_properties\": {},\n",
            "    \"error\": {\n",
            "        \"additional_properties\": {\n",
            "            \"debugInfo\": null\n",
            "        },\n",
            "        \"code\": \"UserError\",\n",
            "        \"severity\": null,\n",
            "        \"message\": \"Experiment timeout reached, please consider increasing your experiment timeout.\",\n",
            "        \"message_format\": \"Experiment timeout reached, please consider increasing your experiment timeout.\",\n",
            "        \"message_parameters\": {},\n",
            "        \"reference_code\": null,\n",
            "        \"details_uri\": null,\n",
            "        \"target\": null,\n",
            "        \"details\": [],\n",
            "        \"inner_error\": {\n",
            "            \"additional_properties\": {},\n",
            "            \"code\": \"ResourceExhausted\",\n",
            "            \"inner_error\": {\n",
            "                \"additional_properties\": {},\n",
            "                \"code\": \"Timeout\",\n",
            "                \"inner_error\": {\n",
            "                    \"additional_properties\": {},\n",
            "                    \"code\": \"ExperimentTimeoutForIterations\",\n",
            "                    \"inner_error\": null\n",
            "                }\n",
            "            }\n",
            "        }\n",
            "    },\n",
            "    \"correlation\": null,\n",
            "    \"environment\": null,\n",
            "    \"location\": null,\n",
            "    \"time\": {},\n",
            "    \"component_name\": null\n",
            "}\n",
            "        33                                                  0:01:01          nan    0.8438\n",
            "ERROR: {\n",
            "    \"additional_properties\": {},\n",
            "    \"error\": {\n",
            "        \"additional_properties\": {\n",
            "            \"debugInfo\": null\n",
            "        },\n",
            "        \"code\": \"UserError\",\n",
            "        \"severity\": null,\n",
            "        \"message\": \"Experiment timeout reached, please consider increasing your experiment timeout.\",\n",
            "        \"message_format\": \"Experiment timeout reached, please consider increasing your experiment timeout.\",\n",
            "        \"message_parameters\": {},\n",
            "        \"reference_code\": null,\n",
            "        \"details_uri\": null,\n",
            "        \"target\": null,\n",
            "        \"details\": [],\n",
            "        \"inner_error\": {\n",
            "            \"additional_properties\": {},\n",
            "            \"code\": \"ResourceExhausted\",\n",
            "            \"inner_error\": {\n",
            "                \"additional_properties\": {},\n",
            "                \"code\": \"Timeout\",\n",
            "                \"inner_error\": {\n",
            "                    \"additional_properties\": {},\n",
            "                    \"code\": \"ExperimentTimeoutForIterations\",\n",
            "                    \"inner_error\": null\n",
            "                }\n",
            "            }\n",
            "        }\n",
            "    },\n",
            "    \"correlation\": null,\n",
            "    \"environment\": null,\n",
            "    \"location\": null,\n",
            "    \"time\": {},\n",
            "    \"component_name\": null\n",
            "}\n",
            "        34    VotingEnsemble                                0:01:02       0.8661    0.8661\n",
            "        35    StackEnsemble                                 0:00:58       0.8171    0.8661\n"
          ]
        }
      ],
      "execution_count": 5,
      "metadata": {
        "gather": {
          "logged": 1617519272057
        },
        "jupyter": {
          "outputs_hidden": false,
          "source_hidden": false
        },
        "nteract": {
          "transient": {
            "deleting": false
          }
        }
      }
    },
    {
      "cell_type": "markdown",
      "source": [
        "## Run Details\n",
        "\n",
        "OPTIONAL: Write about the different models trained and their performance. Why do you think some models did better than others?\n",
        "\n",
        "TODO: In the cell below, use the `RunDetails` widget to show the different experiments."
      ],
      "metadata": {}
    },
    {
      "cell_type": "code",
      "source": [
        "from azureml.widgets import RunDetails\r\n",
        "\r\n",
        "RunDetails(remote_run).show()\r\n",
        "remote_run.wait_for_completion(show_output=True)"
      ],
      "outputs": [
        {
          "output_type": "display_data",
          "data": {
            "text/plain": "_AutoMLWidget(widget_settings={'childWidgetDisplay': 'popup', 'send_telemetry': False, 'log_level': 'INFO', 's…",
            "application/vnd.jupyter.widget-view+json": {
              "version_major": 2,
              "version_minor": 0,
              "model_id": "51bc29e2f9c5430d82a1bc26012a05d4"
            }
          },
          "metadata": {}
        },
        {
          "output_type": "display_data",
          "data": {
            "application/aml.mini.widget.v1": "{\"status\": \"Completed\", \"workbench_run_details_uri\": \"https://ml.azure.com/experiments/Automlrun/runs/AutoML_d22489fc-a63f-41bb-9d47-f59ae655801d?wsid=/subscriptions/48a74bb7-9950-4cc1-9caa-5d50f995cc55/resourcegroups/aml-quickstarts-141917/workspaces/quick-starts-ws-141917\", \"run_id\": \"AutoML_d22489fc-a63f-41bb-9d47-f59ae655801d\", \"run_properties\": {\"run_id\": \"AutoML_d22489fc-a63f-41bb-9d47-f59ae655801d\", \"created_utc\": \"2021-04-04T06:17:43.444243Z\", \"properties\": {\"num_iterations\": \"1000\", \"training_type\": \"TrainFull\", \"acquisition_function\": \"EI\", \"primary_metric\": \"accuracy\", \"train_split\": \"0\", \"acquisition_parameter\": \"0\", \"num_cross_validation\": \"3\", \"target\": \"p12\", \"AMLSettingsJsonString\": \"{\\\"path\\\":null,\\\"name\\\":\\\"Automlrun\\\",\\\"subscription_id\\\":\\\"48a74bb7-9950-4cc1-9caa-5d50f995cc55\\\",\\\"resource_group\\\":\\\"aml-quickstarts-141917\\\",\\\"workspace_name\\\":\\\"quick-starts-ws-141917\\\",\\\"region\\\":\\\"southcentralus\\\",\\\"compute_target\\\":\\\"p12\\\",\\\"spark_service\\\":null,\\\"azure_service\\\":\\\"remote\\\",\\\"many_models\\\":false,\\\"pipeline_fetch_max_batch_size\\\":1,\\\"enable_batch_run\\\":false,\\\"iterations\\\":1000,\\\"primary_metric\\\":\\\"accuracy\\\",\\\"task_type\\\":\\\"classification\\\",\\\"data_script\\\":null,\\\"validation_size\\\":0.0,\\\"n_cross_validations\\\":3,\\\"y_min\\\":null,\\\"y_max\\\":null,\\\"num_classes\\\":null,\\\"featurization\\\":\\\"auto\\\",\\\"_ignore_package_version_incompatibilities\\\":false,\\\"is_timeseries\\\":false,\\\"max_cores_per_iteration\\\":1,\\\"max_concurrent_iterations\\\":4,\\\"iteration_timeout_minutes\\\":null,\\\"mem_in_mb\\\":null,\\\"enforce_time_on_windows\\\":false,\\\"experiment_timeout_minutes\\\":30,\\\"experiment_exit_score\\\":null,\\\"whitelist_models\\\":null,\\\"blacklist_algos\\\":[\\\"XGBoostClassifier\\\",\\\"TensorFlowLinearClassifier\\\",\\\"TensorFlowDNN\\\"],\\\"supported_models\\\":[\\\"RandomForest\\\",\\\"GradientBoosting\\\",\\\"LogisticRegression\\\",\\\"ExtremeRandomTrees\\\",\\\"TensorFlowLinearClassifier\\\",\\\"LightGBM\\\",\\\"XGBoostClassifier\\\",\\\"DecisionTree\\\",\\\"KNN\\\",\\\"AveragedPerceptronClassifier\\\",\\\"LinearSVM\\\",\\\"MultinomialNaiveBayes\\\",\\\"SGD\\\",\\\"TensorFlowDNN\\\",\\\"SVM\\\",\\\"BernoulliNaiveBayes\\\"],\\\"private_models\\\":[],\\\"auto_blacklist\\\":true,\\\"blacklist_samples_reached\\\":false,\\\"exclude_nan_labels\\\":true,\\\"verbosity\\\":20,\\\"_debug_log\\\":\\\"azureml_automl.log\\\",\\\"show_warnings\\\":false,\\\"model_explainability\\\":true,\\\"service_url\\\":null,\\\"sdk_url\\\":null,\\\"sdk_packages\\\":null,\\\"enable_onnx_compatible_models\\\":false,\\\"enable_split_onnx_featurizer_estimator_models\\\":false,\\\"vm_type\\\":\\\"STANDARD_DS12_V2\\\",\\\"telemetry_verbosity\\\":20,\\\"send_telemetry\\\":true,\\\"enable_dnn\\\":false,\\\"scenario\\\":\\\"SDK-1.13.0\\\",\\\"environment_label\\\":null,\\\"save_mlflow\\\":false,\\\"force_text_dnn\\\":false,\\\"enable_feature_sweeping\\\":true,\\\"enable_early_stopping\\\":true,\\\"early_stopping_n_iters\\\":10,\\\"metrics\\\":null,\\\"enable_metric_confidence\\\":false,\\\"enable_ensembling\\\":true,\\\"enable_stack_ensembling\\\":true,\\\"ensemble_iterations\\\":15,\\\"enable_tf\\\":false,\\\"enable_subsampling\\\":null,\\\"subsample_seed\\\":null,\\\"enable_nimbusml\\\":false,\\\"enable_streaming\\\":false,\\\"force_streaming\\\":false,\\\"track_child_runs\\\":true,\\\"allowed_private_models\\\":[],\\\"label_column_name\\\":\\\"DEATH_EVENT\\\",\\\"weight_column_name\\\":null,\\\"cv_split_column_names\\\":null,\\\"enable_local_managed\\\":false,\\\"_local_managed_run_id\\\":null,\\\"cost_mode\\\":1,\\\"lag_length\\\":0,\\\"metric_operation\\\":\\\"maximize\\\",\\\"preprocess\\\":true}\", \"DataPrepJsonString\": \"{\\\\\\\"training_data\\\\\\\": \\\\\\\"{\\\\\\\\\\\\\\\"blocks\\\\\\\\\\\\\\\": [{\\\\\\\\\\\\\\\"id\\\\\\\\\\\\\\\": \\\\\\\\\\\\\\\"ae009fa7-b094-4104-a3f4-e9b51e13acb8\\\\\\\\\\\\\\\", \\\\\\\\\\\\\\\"type\\\\\\\\\\\\\\\": \\\\\\\\\\\\\\\"Microsoft.DPrep.GetDatastoreFilesBlock\\\\\\\\\\\\\\\", \\\\\\\\\\\\\\\"arguments\\\\\\\\\\\\\\\": {\\\\\\\\\\\\\\\"datastores\\\\\\\\\\\\\\\": [{\\\\\\\\\\\\\\\"datastoreName\\\\\\\\\\\\\\\": \\\\\\\\\\\\\\\"workspaceblobstore\\\\\\\\\\\\\\\", \\\\\\\\\\\\\\\"path\\\\\\\\\\\\\\\": \\\\\\\\\\\\\\\"train.csv\\\\\\\\\\\\\\\", \\\\\\\\\\\\\\\"resourceGroup\\\\\\\\\\\\\\\": \\\\\\\\\\\\\\\"aml-quickstarts-141917\\\\\\\\\\\\\\\", \\\\\\\\\\\\\\\"subscription\\\\\\\\\\\\\\\": \\\\\\\\\\\\\\\"48a74bb7-9950-4cc1-9caa-5d50f995cc55\\\\\\\\\\\\\\\", \\\\\\\\\\\\\\\"workspaceName\\\\\\\\\\\\\\\": \\\\\\\\\\\\\\\"quick-starts-ws-141917\\\\\\\\\\\\\\\"}]}, \\\\\\\\\\\\\\\"localData\\\\\\\\\\\\\\\": {}, \\\\\\\\\\\\\\\"isEnabled\\\\\\\\\\\\\\\": true, \\\\\\\\\\\\\\\"name\\\\\\\\\\\\\\\": null, \\\\\\\\\\\\\\\"annotation\\\\\\\\\\\\\\\": null}, {\\\\\\\\\\\\\\\"id\\\\\\\\\\\\\\\": \\\\\\\\\\\\\\\"11d99c38-a988-43ec-a770-a4360a960412\\\\\\\\\\\\\\\", \\\\\\\\\\\\\\\"type\\\\\\\\\\\\\\\": \\\\\\\\\\\\\\\"Microsoft.DPrep.ParseDelimitedBlock\\\\\\\\\\\\\\\", \\\\\\\\\\\\\\\"arguments\\\\\\\\\\\\\\\": {\\\\\\\\\\\\\\\"columnHeadersMode\\\\\\\\\\\\\\\": 3, \\\\\\\\\\\\\\\"fileEncoding\\\\\\\\\\\\\\\": 0, \\\\\\\\\\\\\\\"handleQuotedLineBreaks\\\\\\\\\\\\\\\": false, \\\\\\\\\\\\\\\"preview\\\\\\\\\\\\\\\": false, \\\\\\\\\\\\\\\"separator\\\\\\\\\\\\\\\": \\\\\\\\\\\\\\\",\\\\\\\\\\\\\\\", \\\\\\\\\\\\\\\"skipRows\\\\\\\\\\\\\\\": 0, \\\\\\\\\\\\\\\"skipRowsMode\\\\\\\\\\\\\\\": 0}, \\\\\\\\\\\\\\\"localData\\\\\\\\\\\\\\\": {}, \\\\\\\\\\\\\\\"isEnabled\\\\\\\\\\\\\\\": true, \\\\\\\\\\\\\\\"name\\\\\\\\\\\\\\\": null, \\\\\\\\\\\\\\\"annotation\\\\\\\\\\\\\\\": null}, {\\\\\\\\\\\\\\\"id\\\\\\\\\\\\\\\": \\\\\\\\\\\\\\\"0f0780ba-4a2c-4fd9-8c0f-a5b54b319588\\\\\\\\\\\\\\\", \\\\\\\\\\\\\\\"type\\\\\\\\\\\\\\\": \\\\\\\\\\\\\\\"Microsoft.DPrep.DropColumnsBlock\\\\\\\\\\\\\\\", \\\\\\\\\\\\\\\"arguments\\\\\\\\\\\\\\\": {\\\\\\\\\\\\\\\"columns\\\\\\\\\\\\\\\": {\\\\\\\\\\\\\\\"type\\\\\\\\\\\\\\\": 0, \\\\\\\\\\\\\\\"details\\\\\\\\\\\\\\\": {\\\\\\\\\\\\\\\"selectedColumns\\\\\\\\\\\\\\\": [\\\\\\\\\\\\\\\"Path\\\\\\\\\\\\\\\"]}}}, \\\\\\\\\\\\\\\"localData\\\\\\\\\\\\\\\": {}, \\\\\\\\\\\\\\\"isEnabled\\\\\\\\\\\\\\\": true, \\\\\\\\\\\\\\\"name\\\\\\\\\\\\\\\": null, \\\\\\\\\\\\\\\"annotation\\\\\\\\\\\\\\\": null}, {\\\\\\\\\\\\\\\"id\\\\\\\\\\\\\\\": \\\\\\\\\\\\\\\"137fb717-3a78-47cf-87ab-b349c9d05126\\\\\\\\\\\\\\\", \\\\\\\\\\\\\\\"type\\\\\\\\\\\\\\\": \\\\\\\\\\\\\\\"Microsoft.DPrep.SetColumnTypesBlock\\\\\\\\\\\\\\\", \\\\\\\\\\\\\\\"arguments\\\\\\\\\\\\\\\": {\\\\\\\\\\\\\\\"columnConversion\\\\\\\\\\\\\\\": [{\\\\\\\\\\\\\\\"column\\\\\\\\\\\\\\\": {\\\\\\\\\\\\\\\"type\\\\\\\\\\\\\\\": 2, \\\\\\\\\\\\\\\"details\\\\\\\\\\\\\\\": {\\\\\\\\\\\\\\\"selectedColumn\\\\\\\\\\\\\\\": \\\\\\\\\\\\\\\"age\\\\\\\\\\\\\\\"}}, \\\\\\\\\\\\\\\"typeProperty\\\\\\\\\\\\\\\": 3}, {\\\\\\\\\\\\\\\"column\\\\\\\\\\\\\\\": {\\\\\\\\\\\\\\\"type\\\\\\\\\\\\\\\": 2, \\\\\\\\\\\\\\\"details\\\\\\\\\\\\\\\": {\\\\\\\\\\\\\\\"selectedColumn\\\\\\\\\\\\\\\": \\\\\\\\\\\\\\\"anaemia\\\\\\\\\\\\\\\"}}, \\\\\\\\\\\\\\\"typeProperty\\\\\\\\\\\\\\\": 2}, {\\\\\\\\\\\\\\\"column\\\\\\\\\\\\\\\": {\\\\\\\\\\\\\\\"type\\\\\\\\\\\\\\\": 2, \\\\\\\\\\\\\\\"details\\\\\\\\\\\\\\\": {\\\\\\\\\\\\\\\"selectedColumn\\\\\\\\\\\\\\\": \\\\\\\\\\\\\\\"creatinine_phosphokinase\\\\\\\\\\\\\\\"}}, \\\\\\\\\\\\\\\"typeProperty\\\\\\\\\\\\\\\": 2}, {\\\\\\\\\\\\\\\"column\\\\\\\\\\\\\\\": {\\\\\\\\\\\\\\\"type\\\\\\\\\\\\\\\": 2, \\\\\\\\\\\\\\\"details\\\\\\\\\\\\\\\": {\\\\\\\\\\\\\\\"selectedColumn\\\\\\\\\\\\\\\": \\\\\\\\\\\\\\\"diabetes\\\\\\\\\\\\\\\"}}, \\\\\\\\\\\\\\\"typeProperty\\\\\\\\\\\\\\\": 2}, {\\\\\\\\\\\\\\\"column\\\\\\\\\\\\\\\": {\\\\\\\\\\\\\\\"type\\\\\\\\\\\\\\\": 2, \\\\\\\\\\\\\\\"details\\\\\\\\\\\\\\\": {\\\\\\\\\\\\\\\"selectedColumn\\\\\\\\\\\\\\\": \\\\\\\\\\\\\\\"ejection_fraction\\\\\\\\\\\\\\\"}}, \\\\\\\\\\\\\\\"typeProperty\\\\\\\\\\\\\\\": 2}, {\\\\\\\\\\\\\\\"column\\\\\\\\\\\\\\\": {\\\\\\\\\\\\\\\"type\\\\\\\\\\\\\\\": 2, \\\\\\\\\\\\\\\"details\\\\\\\\\\\\\\\": {\\\\\\\\\\\\\\\"selectedColumn\\\\\\\\\\\\\\\": \\\\\\\\\\\\\\\"high_blood_pressure\\\\\\\\\\\\\\\"}}, \\\\\\\\\\\\\\\"typeProperty\\\\\\\\\\\\\\\": 2}, {\\\\\\\\\\\\\\\"column\\\\\\\\\\\\\\\": {\\\\\\\\\\\\\\\"type\\\\\\\\\\\\\\\": 2, \\\\\\\\\\\\\\\"details\\\\\\\\\\\\\\\": {\\\\\\\\\\\\\\\"selectedColumn\\\\\\\\\\\\\\\": \\\\\\\\\\\\\\\"platelets\\\\\\\\\\\\\\\"}}, \\\\\\\\\\\\\\\"typeProperty\\\\\\\\\\\\\\\": 3}, {\\\\\\\\\\\\\\\"column\\\\\\\\\\\\\\\": {\\\\\\\\\\\\\\\"type\\\\\\\\\\\\\\\": 2, \\\\\\\\\\\\\\\"details\\\\\\\\\\\\\\\": {\\\\\\\\\\\\\\\"selectedColumn\\\\\\\\\\\\\\\": \\\\\\\\\\\\\\\"serum_creatinine\\\\\\\\\\\\\\\"}}, \\\\\\\\\\\\\\\"typeProperty\\\\\\\\\\\\\\\": 3}, {\\\\\\\\\\\\\\\"column\\\\\\\\\\\\\\\": {\\\\\\\\\\\\\\\"type\\\\\\\\\\\\\\\": 2, \\\\\\\\\\\\\\\"details\\\\\\\\\\\\\\\": {\\\\\\\\\\\\\\\"selectedColumn\\\\\\\\\\\\\\\": \\\\\\\\\\\\\\\"serum_sodium\\\\\\\\\\\\\\\"}}, \\\\\\\\\\\\\\\"typeProperty\\\\\\\\\\\\\\\": 2}, {\\\\\\\\\\\\\\\"column\\\\\\\\\\\\\\\": {\\\\\\\\\\\\\\\"type\\\\\\\\\\\\\\\": 2, \\\\\\\\\\\\\\\"details\\\\\\\\\\\\\\\": {\\\\\\\\\\\\\\\"selectedColumn\\\\\\\\\\\\\\\": \\\\\\\\\\\\\\\"sex\\\\\\\\\\\\\\\"}}, \\\\\\\\\\\\\\\"typeProperty\\\\\\\\\\\\\\\": 2}, {\\\\\\\\\\\\\\\"column\\\\\\\\\\\\\\\": {\\\\\\\\\\\\\\\"type\\\\\\\\\\\\\\\": 2, \\\\\\\\\\\\\\\"details\\\\\\\\\\\\\\\": {\\\\\\\\\\\\\\\"selectedColumn\\\\\\\\\\\\\\\": \\\\\\\\\\\\\\\"smoking\\\\\\\\\\\\\\\"}}, \\\\\\\\\\\\\\\"typeProperty\\\\\\\\\\\\\\\": 2}, {\\\\\\\\\\\\\\\"column\\\\\\\\\\\\\\\": {\\\\\\\\\\\\\\\"type\\\\\\\\\\\\\\\": 2, \\\\\\\\\\\\\\\"details\\\\\\\\\\\\\\\": {\\\\\\\\\\\\\\\"selectedColumn\\\\\\\\\\\\\\\": \\\\\\\\\\\\\\\"time\\\\\\\\\\\\\\\"}}, \\\\\\\\\\\\\\\"typeProperty\\\\\\\\\\\\\\\": 2}, {\\\\\\\\\\\\\\\"column\\\\\\\\\\\\\\\": {\\\\\\\\\\\\\\\"type\\\\\\\\\\\\\\\": 2, \\\\\\\\\\\\\\\"details\\\\\\\\\\\\\\\": {\\\\\\\\\\\\\\\"selectedColumn\\\\\\\\\\\\\\\": \\\\\\\\\\\\\\\"DEATH_EVENT\\\\\\\\\\\\\\\"}}, \\\\\\\\\\\\\\\"typeProperty\\\\\\\\\\\\\\\": 2}]}, \\\\\\\\\\\\\\\"localData\\\\\\\\\\\\\\\": {}, \\\\\\\\\\\\\\\"isEnabled\\\\\\\\\\\\\\\": true, \\\\\\\\\\\\\\\"name\\\\\\\\\\\\\\\": null, \\\\\\\\\\\\\\\"annotation\\\\\\\\\\\\\\\": null}], \\\\\\\\\\\\\\\"inspectors\\\\\\\\\\\\\\\": [], \\\\\\\\\\\\\\\"meta\\\\\\\\\\\\\\\": {\\\\\\\\\\\\\\\"savedDatasetId\\\\\\\\\\\\\\\": \\\\\\\\\\\\\\\"5e80d85d-e2e3-4b62-b943-4139f50cfdcb\\\\\\\\\\\\\\\", \\\\\\\\\\\\\\\"datasetType\\\\\\\\\\\\\\\": \\\\\\\\\\\\\\\"tabular\\\\\\\\\\\\\\\", \\\\\\\\\\\\\\\"subscriptionId\\\\\\\\\\\\\\\": \\\\\\\\\\\\\\\"48a74bb7-9950-4cc1-9caa-5d50f995cc55\\\\\\\\\\\\\\\", \\\\\\\\\\\\\\\"workspaceId\\\\\\\\\\\\\\\": \\\\\\\\\\\\\\\"4983fcc6-ccd1-4649-bacf-3fd00fad24d9\\\\\\\\\\\\\\\", \\\\\\\\\\\\\\\"workspaceLocation\\\\\\\\\\\\\\\": \\\\\\\\\\\\\\\"southcentralus\\\\\\\\\\\\\\\", \\\\\\\\\\\\\\\"partition_keys\\\\\\\\\\\\\\\": \\\\\\\\\\\\\\\"true\\\\\\\\\\\\\\\"}}\\\\\\\", \\\\\\\"activities\\\\\\\": 0}\", \"EnableSubsampling\": null, \"runTemplate\": \"AutoML\", \"azureml.runsource\": \"automl\", \"display_task_type\": \"classification\", \"dependencies_versions\": \"{\\\"azureml-widgets\\\": \\\"1.24.0\\\", \\\"azureml-train\\\": \\\"1.24.0\\\", \\\"azureml-train-restclients-hyperdrive\\\": \\\"1.24.0\\\", \\\"azureml-train-core\\\": \\\"1.24.0\\\", \\\"azureml-train-automl\\\": \\\"1.24.0\\\", \\\"azureml-train-automl-runtime\\\": \\\"1.24.0\\\", \\\"azureml-train-automl-client\\\": \\\"1.24.0\\\", \\\"azureml-tensorboard\\\": \\\"1.24.0\\\", \\\"azureml-telemetry\\\": \\\"1.24.0\\\", \\\"azureml-sdk\\\": \\\"1.24.0\\\", \\\"azureml-samples\\\": \\\"0+unknown\\\", \\\"azureml-pipeline\\\": \\\"1.24.0\\\", \\\"azureml-pipeline-steps\\\": \\\"1.24.0\\\", \\\"azureml-pipeline-core\\\": \\\"1.24.0\\\", \\\"azureml-opendatasets\\\": \\\"1.24.0\\\", \\\"azureml-model-management-sdk\\\": \\\"1.0.1b6.post1\\\", \\\"azureml-mlflow\\\": \\\"1.24.0\\\", \\\"azureml-interpret\\\": \\\"1.24.0\\\", \\\"azureml-explain-model\\\": \\\"1.24.0\\\", \\\"azureml-defaults\\\": \\\"1.24.0\\\", \\\"azureml-dataset-runtime\\\": \\\"1.24.0\\\", \\\"azureml-dataprep\\\": \\\"2.11.1\\\", \\\"azureml-dataprep-rslex\\\": \\\"1.9.0\\\", \\\"azureml-dataprep-native\\\": \\\"30.0.0\\\", \\\"azureml-datadrift\\\": \\\"1.24.0\\\", \\\"azureml-core\\\": \\\"1.24.0\\\", \\\"azureml-contrib-services\\\": \\\"1.24.0\\\", \\\"azureml-contrib-server\\\": \\\"1.24.0\\\", \\\"azureml-contrib-reinforcementlearning\\\": \\\"1.24.0\\\", \\\"azureml-contrib-pipeline-steps\\\": \\\"1.24.0\\\", \\\"azureml-contrib-notebook\\\": \\\"1.24.0\\\", \\\"azureml-contrib-gbdt\\\": \\\"1.24.0\\\", \\\"azureml-contrib-fairness\\\": \\\"1.24.0\\\", \\\"azureml-contrib-dataset\\\": \\\"1.24.0\\\", \\\"azureml-cli-common\\\": \\\"1.24.0\\\", \\\"azureml-automl-runtime\\\": \\\"1.24.0\\\", \\\"azureml-automl-dnn-nlp\\\": \\\"1.24.0\\\", \\\"azureml-automl-core\\\": \\\"1.24.0\\\", \\\"azureml-accel-models\\\": \\\"1.24.0\\\"}\", \"_aml_system_scenario_identification\": \"Remote.Parent\", \"ClientType\": \"SDK\", \"environment_cpu_name\": \"AzureML-AutoML\", \"environment_cpu_label\": \"prod\", \"environment_gpu_name\": \"AzureML-AutoML-GPU\", \"environment_gpu_label\": \"prod\", \"root_attribution\": \"automl\", \"attribution\": \"AutoML\", \"Orchestrator\": \"AutoML\", \"CancelUri\": \"https://southcentralus.experiments.azureml.net/jasmine/v1.0/subscriptions/48a74bb7-9950-4cc1-9caa-5d50f995cc55/resourceGroups/aml-quickstarts-141917/providers/Microsoft.MachineLearningServices/workspaces/quick-starts-ws-141917/experimentids/abc04027-236b-416d-b421-e43e6d6f13a5/cancel/AutoML_d22489fc-a63f-41bb-9d47-f59ae655801d\", \"ClientSdkVersion\": \"1.24.0\", \"snapshotId\": \"00000000-0000-0000-0000-000000000000\", \"SetupRunId\": \"AutoML_d22489fc-a63f-41bb-9d47-f59ae655801d_setup\", \"SetupRunContainerId\": \"dcid.AutoML_d22489fc-a63f-41bb-9d47-f59ae655801d_setup\", \"FeaturizationRunJsonPath\": \"featurizer_container.json\", \"FeaturizationRunId\": \"AutoML_d22489fc-a63f-41bb-9d47-f59ae655801d_featurize\", \"ProblemInfoJsonString\": \"{\\\"dataset_num_categorical\\\": 0, \\\"is_sparse\\\": false, \\\"subsampling\\\": false, \\\"dataset_classes\\\": 2, \\\"dataset_features\\\": 12, \\\"dataset_samples\\\": 224, \\\"single_frequency_class_detected\\\": false}\", \"ModelExplainRunId\": \"AutoML_d22489fc-a63f-41bb-9d47-f59ae655801d_ModelExplain\"}, \"tags\": {\"model_explain_run\": \"best_run\", \"_aml_system_azureml.automlComponent\": \"AutoML\", \"pipeline_id\": \"\", \"score\": \"\", \"predicted_cost\": \"\", \"fit_time\": \"\", \"training_percent\": \"\", \"iteration\": \"\", \"run_preprocessor\": \"\", \"run_algorithm\": \"\", \"dynamic_whitelisting_iterations\": \"<25>;<30>;\", \"automl_best_child_run_id\": \"AutoML_d22489fc-a63f-41bb-9d47-f59ae655801d_34\", \"model_explain_best_run_child_id\": \"AutoML_d22489fc-a63f-41bb-9d47-f59ae655801d_34\"}, \"end_time_utc\": \"2021-04-04T06:54:15.748606Z\", \"status\": \"Completed\", \"log_files\": {}, \"log_groups\": [], \"run_duration\": \"0:36:32\", \"run_number\": \"1\", \"run_queued_details\": {\"status\": \"Completed\", \"details\": null}}, \"child_runs\": [{\"run_id\": \"AutoML_d22489fc-a63f-41bb-9d47-f59ae655801d_0\", \"run_number\": 5, \"metric\": null, \"status\": \"Completed\", \"run_type\": \"azureml.scriptrun\", \"training_percent\": \"100\", \"start_time\": \"2021-04-04T06:23:15.746008Z\", \"end_time\": \"2021-04-04T06:23:55.211188Z\", \"created_time\": \"2021-04-04T06:21:01.566231Z\", \"created_time_dt\": \"2021-04-04T06:21:01.566231Z\", \"duration\": \"0:02:53\", \"iteration\": \"0\", \"goal\": \"accuracy_max\", \"run_name\": \"MaxAbsScaler, LightGBM\", \"run_properties\": \"copy=True\", \"primary_metric\": 0.79489489, \"best_metric\": 0.79489489}, {\"run_id\": \"AutoML_d22489fc-a63f-41bb-9d47-f59ae655801d_1\", \"run_number\": 6, \"metric\": null, \"status\": \"Completed\", \"run_type\": \"azureml.scriptrun\", \"training_percent\": \"100\", \"start_time\": \"2021-04-04T06:22:10.760233Z\", \"end_time\": \"2021-04-04T06:22:59.166675Z\", \"created_time\": \"2021-04-04T06:21:01.576088Z\", \"created_time_dt\": \"2021-04-04T06:21:01.576088Z\", \"duration\": \"0:01:57\", \"iteration\": \"1\", \"goal\": \"accuracy_max\", \"run_name\": \"MinMaxScaler, RandomForest\", \"run_properties\": \"copy=True, feature_range=(0, 1\", \"primary_metric\": 0.80828829, \"best_metric\": 0.80828829}, {\"run_id\": \"AutoML_d22489fc-a63f-41bb-9d47-f59ae655801d_2\", \"run_number\": 7, \"metric\": null, \"status\": \"Completed\", \"run_type\": \"azureml.scriptrun\", \"training_percent\": \"100\", \"start_time\": \"2021-04-04T06:21:14.705937Z\", \"end_time\": \"2021-04-04T06:21:56.278103Z\", \"created_time\": \"2021-04-04T06:21:01.593012Z\", \"created_time_dt\": \"2021-04-04T06:21:01.593012Z\", \"duration\": \"0:00:54\", \"iteration\": \"2\", \"goal\": \"accuracy_max\", \"run_name\": \"MinMaxScaler, RandomForest\", \"run_properties\": \"copy=True, feature_range=(0, 1\", \"primary_metric\": 0.79021021, \"best_metric\": 0.80828829}, {\"run_id\": \"AutoML_d22489fc-a63f-41bb-9d47-f59ae655801d_3\", \"run_number\": 8, \"metric\": null, \"status\": \"Completed\", \"run_type\": \"azureml.scriptrun\", \"training_percent\": \"100\", \"start_time\": \"2021-04-04T06:24:11.883615Z\", \"end_time\": \"2021-04-04T06:24:48.542631Z\", \"created_time\": \"2021-04-04T06:21:01.611214Z\", \"created_time_dt\": \"2021-04-04T06:21:01.611214Z\", \"duration\": \"0:03:46\", \"iteration\": \"3\", \"goal\": \"accuracy_max\", \"run_name\": \"MinMaxScaler, RandomForest\", \"run_properties\": \"copy=True, feature_range=(0, 1\", \"primary_metric\": 0.8215015, \"best_metric\": 0.8215015}, {\"run_id\": \"AutoML_d22489fc-a63f-41bb-9d47-f59ae655801d_4\", \"run_number\": 9, \"metric\": null, \"status\": \"Completed\", \"run_type\": \"azureml.scriptrun\", \"training_percent\": \"100\", \"start_time\": \"2021-04-04T06:25:06.48433Z\", \"end_time\": \"2021-04-04T06:25:48.495513Z\", \"created_time\": \"2021-04-04T06:21:59.780023Z\", \"created_time_dt\": \"2021-04-04T06:21:59.780023Z\", \"duration\": \"0:03:48\", \"iteration\": \"4\", \"goal\": \"accuracy_max\", \"run_name\": \"MinMaxScaler, RandomForest\", \"run_properties\": \"copy=True, feature_range=(0, 1\", \"primary_metric\": 0.79489489, \"best_metric\": 0.8215015}, {\"run_id\": \"AutoML_d22489fc-a63f-41bb-9d47-f59ae655801d_5\", \"run_number\": 10, \"metric\": null, \"status\": \"Completed\", \"run_type\": \"azureml.scriptrun\", \"training_percent\": \"100\", \"start_time\": \"2021-04-04T06:26:03.937293Z\", \"end_time\": \"2021-04-04T06:26:45.182412Z\", \"created_time\": \"2021-04-04T06:23:01.903138Z\", \"created_time_dt\": \"2021-04-04T06:23:01.903138Z\", \"duration\": \"0:03:43\", \"iteration\": \"5\", \"goal\": \"accuracy_max\", \"run_name\": \"MinMaxScaler, SVM\", \"run_properties\": \"copy=True, feature_range=(0, 1\", \"primary_metric\": 0.70972973, \"best_metric\": 0.8215015}, {\"run_id\": \"AutoML_d22489fc-a63f-41bb-9d47-f59ae655801d_6\", \"run_number\": 11, \"metric\": null, \"status\": \"Completed\", \"run_type\": \"azureml.scriptrun\", \"training_percent\": \"100\", \"start_time\": \"2021-04-04T06:26:57.981043Z\", \"end_time\": \"2021-04-04T06:27:43.894498Z\", \"created_time\": \"2021-04-04T06:23:58.40369Z\", \"created_time_dt\": \"2021-04-04T06:23:58.40369Z\", \"duration\": \"0:03:45\", \"iteration\": \"6\", \"goal\": \"accuracy_max\", \"run_name\": \"MinMaxScaler, SVM\", \"run_properties\": \"copy=True, feature_range=(0, 1\", \"primary_metric\": 0.723003, \"best_metric\": 0.8215015}, {\"run_id\": \"AutoML_d22489fc-a63f-41bb-9d47-f59ae655801d_7\", \"run_number\": 12, \"metric\": null, \"status\": \"Completed\", \"run_type\": \"azureml.scriptrun\", \"training_percent\": \"100\", \"start_time\": \"2021-04-04T06:27:57.384417Z\", \"end_time\": \"2021-04-04T06:28:38.832197Z\", \"created_time\": \"2021-04-04T06:24:50.706616Z\", \"created_time_dt\": \"2021-04-04T06:24:50.706616Z\", \"duration\": \"0:03:48\", \"iteration\": \"7\", \"goal\": \"accuracy_max\", \"run_name\": \"MinMaxScaler, SVM\", \"run_properties\": \"copy=True, feature_range=(0, 1\", \"primary_metric\": 0.70990991, \"best_metric\": 0.8215015}, {\"run_id\": \"AutoML_d22489fc-a63f-41bb-9d47-f59ae655801d_8\", \"run_number\": 13, \"metric\": null, \"status\": \"Completed\", \"run_type\": \"azureml.scriptrun\", \"training_percent\": \"100\", \"start_time\": \"2021-04-04T06:28:50.150414Z\", \"end_time\": \"2021-04-04T06:29:31.282357Z\", \"created_time\": \"2021-04-04T06:25:50.442407Z\", \"created_time_dt\": \"2021-04-04T06:25:50.442407Z\", \"duration\": \"0:03:40\", \"iteration\": \"8\", \"goal\": \"accuracy_max\", \"run_name\": \"RobustScaler, SVM\", \"run_properties\": \"copy=True, quantile_range=[10, 90], with_centering=True,\\n             with_scaling=True\", \"primary_metric\": 0.74558559, \"best_metric\": 0.8215015}, {\"run_id\": \"AutoML_d22489fc-a63f-41bb-9d47-f59ae655801d_9\", \"run_number\": 14, \"metric\": null, \"status\": \"Completed\", \"run_type\": \"azureml.scriptrun\", \"training_percent\": \"100\", \"start_time\": \"2021-04-04T06:29:47.764813Z\", \"end_time\": \"2021-04-04T06:30:39.256179Z\", \"created_time\": \"2021-04-04T06:26:47.611165Z\", \"created_time_dt\": \"2021-04-04T06:26:47.611165Z\", \"duration\": \"0:03:51\", \"iteration\": \"9\", \"goal\": \"accuracy_max\", \"run_name\": \"MaxAbsScaler, RandomForest\", \"run_properties\": \"copy=True\", \"primary_metric\": 0.76342342, \"best_metric\": 0.8215015}, {\"run_id\": \"AutoML_d22489fc-a63f-41bb-9d47-f59ae655801d_10\", \"run_number\": 15, \"metric\": null, \"status\": \"Completed\", \"run_type\": \"azureml.scriptrun\", \"training_percent\": \"100\", \"start_time\": \"2021-04-04T06:30:52.362696Z\", \"end_time\": \"2021-04-04T06:31:45.352759Z\", \"created_time\": \"2021-04-04T06:27:45.967781Z\", \"created_time_dt\": \"2021-04-04T06:27:45.967781Z\", \"duration\": \"0:03:59\", \"iteration\": \"10\", \"goal\": \"accuracy_max\", \"run_name\": \"StandardScalerWrapper, GradientBoosting\", \"run_properties\": \"<azureml.automl.runtime.shared.model_wrappers.StandardScalerWrapper object at 0x7fe36d48b358\", \"primary_metric\": 0.84378378, \"best_metric\": 0.84378378}, {\"run_id\": \"AutoML_d22489fc-a63f-41bb-9d47-f59ae655801d_11\", \"run_number\": 16, \"metric\": null, \"status\": \"Completed\", \"run_type\": \"azureml.scriptrun\", \"training_percent\": \"100\", \"start_time\": \"2021-04-04T06:32:01.813799Z\", \"end_time\": \"2021-04-04T06:32:45.387288Z\", \"created_time\": \"2021-04-04T06:28:42.322263Z\", \"created_time_dt\": \"2021-04-04T06:28:42.322263Z\", \"duration\": \"0:04:03\", \"iteration\": \"11\", \"goal\": \"accuracy_max\", \"run_name\": \"StandardScalerWrapper, LightGBM\", \"run_properties\": \"<azureml.automl.runtime.shared.model_wrappers.StandardScalerWrapper object at 0x7fbaa7588f98\", \"primary_metric\": 0.80810811, \"best_metric\": 0.84378378}, {\"run_id\": \"AutoML_d22489fc-a63f-41bb-9d47-f59ae655801d_12\", \"run_number\": 17, \"metric\": null, \"status\": \"Completed\", \"run_type\": \"azureml.scriptrun\", \"training_percent\": \"100\", \"start_time\": \"2021-04-04T06:32:56.917513Z\", \"end_time\": \"2021-04-04T06:33:41.067124Z\", \"created_time\": \"2021-04-04T06:29:33.03559Z\", \"created_time_dt\": \"2021-04-04T06:29:33.03559Z\", \"duration\": \"0:04:08\", \"iteration\": \"12\", \"goal\": \"accuracy_max\", \"run_name\": \"RobustScaler, RandomForest\", \"run_properties\": \"copy=True, quantile_range=[10, 90], with_centering=True,\\n             with_scaling=True\", \"primary_metric\": 0.83933934, \"best_metric\": 0.84378378}, {\"run_id\": \"AutoML_d22489fc-a63f-41bb-9d47-f59ae655801d_13\", \"run_number\": 18, \"metric\": null, \"status\": \"Completed\", \"run_type\": \"azureml.scriptrun\", \"training_percent\": \"100\", \"start_time\": \"2021-04-04T06:33:55.55031Z\", \"end_time\": \"2021-04-04T06:34:38.151931Z\", \"created_time\": \"2021-04-04T06:30:41.333063Z\", \"created_time_dt\": \"2021-04-04T06:30:41.333063Z\", \"duration\": \"0:03:56\", \"iteration\": \"13\", \"goal\": \"accuracy_max\", \"run_name\": \"MinMaxScaler, LightGBM\", \"run_properties\": \"copy=True, feature_range=(0, 1\", \"primary_metric\": 0.77249249, \"best_metric\": 0.84378378}, {\"run_id\": \"AutoML_d22489fc-a63f-41bb-9d47-f59ae655801d_14\", \"run_number\": 19, \"metric\": null, \"status\": \"Completed\", \"run_type\": \"azureml.scriptrun\", \"training_percent\": \"100\", \"start_time\": \"2021-04-04T06:34:51.715438Z\", \"end_time\": \"2021-04-04T06:35:38.173676Z\", \"created_time\": \"2021-04-04T06:31:48.163375Z\", \"created_time_dt\": \"2021-04-04T06:31:48.163375Z\", \"duration\": \"0:03:50\", \"iteration\": \"14\", \"goal\": \"accuracy_max\", \"run_name\": \"MaxAbsScaler, ExtremeRandomTrees\", \"run_properties\": \"copy=True\", \"primary_metric\": 0.80816817, \"best_metric\": 0.84378378}, {\"run_id\": \"AutoML_d22489fc-a63f-41bb-9d47-f59ae655801d_15\", \"run_number\": 20, \"metric\": null, \"status\": \"Completed\", \"run_type\": \"azureml.scriptrun\", \"training_percent\": \"100\", \"start_time\": \"2021-04-04T06:35:50.276009Z\", \"end_time\": \"2021-04-04T06:36:42.128255Z\", \"created_time\": \"2021-04-04T06:32:47.938003Z\", \"created_time_dt\": \"2021-04-04T06:32:47.938003Z\", \"duration\": \"0:03:54\", \"iteration\": \"15\", \"goal\": \"accuracy_max\", \"run_name\": \"StandardScalerWrapper, LightGBM\", \"run_properties\": \"<azureml.automl.runtime.shared.model_wrappers.StandardScalerWrapper object at 0x7f7bf9503400\", \"primary_metric\": 0.80378378, \"best_metric\": 0.84378378}, {\"run_id\": \"AutoML_d22489fc-a63f-41bb-9d47-f59ae655801d_16\", \"run_number\": 21, \"metric\": null, \"status\": \"Completed\", \"run_type\": \"azureml.scriptrun\", \"training_percent\": \"100\", \"start_time\": \"2021-04-04T06:36:58.584567Z\", \"end_time\": \"2021-04-04T06:37:41.332806Z\", \"created_time\": \"2021-04-04T06:33:44.135156Z\", \"created_time_dt\": \"2021-04-04T06:33:44.135156Z\", \"duration\": \"0:03:57\", \"iteration\": \"16\", \"goal\": \"accuracy_max\", \"run_name\": \"StandardScalerWrapper, ExtremeRandomTrees\", \"run_properties\": \"<azureml.automl.runtime.shared.model_wrappers.StandardScalerWrapper object at 0x7f0c3cf9f748\", \"primary_metric\": 0.69195195, \"best_metric\": 0.84378378}, {\"run_id\": \"AutoML_d22489fc-a63f-41bb-9d47-f59ae655801d_17\", \"run_number\": 22, \"metric\": null, \"status\": \"Completed\", \"run_type\": \"azureml.scriptrun\", \"training_percent\": \"100\", \"start_time\": \"2021-04-04T06:37:56.147086Z\", \"end_time\": \"2021-04-04T06:38:33.57922Z\", \"created_time\": \"2021-04-04T06:34:40.831138Z\", \"created_time_dt\": \"2021-04-04T06:34:40.831138Z\", \"duration\": \"0:03:52\", \"iteration\": \"17\", \"goal\": \"accuracy_max\", \"run_name\": \"MaxAbsScaler, ExtremeRandomTrees\", \"run_properties\": \"copy=True\", \"primary_metric\": 0.80810811, \"best_metric\": 0.84378378}, {\"run_id\": \"AutoML_d22489fc-a63f-41bb-9d47-f59ae655801d_18\", \"run_number\": 23, \"metric\": null, \"status\": \"Completed\", \"run_type\": \"azureml.scriptrun\", \"training_percent\": \"100\", \"start_time\": \"2021-04-04T06:38:48.866386Z\", \"end_time\": \"2021-04-04T06:39:36.117159Z\", \"created_time\": \"2021-04-04T06:35:40.915829Z\", \"created_time_dt\": \"2021-04-04T06:35:40.915829Z\", \"duration\": \"0:03:55\", \"iteration\": \"18\", \"goal\": \"accuracy_max\", \"run_name\": \"StandardScalerWrapper, LightGBM\", \"run_properties\": \"<azureml.automl.runtime.shared.model_wrappers.StandardScalerWrapper object at 0x7f9e0ef98dd8\", \"primary_metric\": 0.82612613, \"best_metric\": 0.84378378}, {\"run_id\": \"AutoML_d22489fc-a63f-41bb-9d47-f59ae655801d_19\", \"run_number\": 24, \"metric\": null, \"status\": \"Completed\", \"run_type\": \"azureml.scriptrun\", \"training_percent\": \"100\", \"start_time\": \"2021-04-04T06:39:49.509706Z\", \"end_time\": \"2021-04-04T06:40:36.273571Z\", \"created_time\": \"2021-04-04T06:36:45.127166Z\", \"created_time_dt\": \"2021-04-04T06:36:45.127166Z\", \"duration\": \"0:03:51\", \"iteration\": \"19\", \"goal\": \"accuracy_max\", \"run_name\": \"RobustScaler, LightGBM\", \"run_properties\": \"copy=True, quantile_range=[10, 90], with_centering=True,\\n             with_scaling=False\", \"primary_metric\": 0.75453453, \"best_metric\": 0.84378378}, {\"run_id\": \"AutoML_d22489fc-a63f-41bb-9d47-f59ae655801d_20\", \"run_number\": 25, \"metric\": null, \"status\": \"Completed\", \"run_type\": \"azureml.scriptrun\", \"training_percent\": \"100\", \"start_time\": \"2021-04-04T06:40:55.64398Z\", \"end_time\": \"2021-04-04T06:41:32.705193Z\", \"created_time\": \"2021-04-04T06:37:43.855686Z\", \"created_time_dt\": \"2021-04-04T06:37:43.855686Z\", \"duration\": \"0:03:48\", \"iteration\": \"20\", \"goal\": \"accuracy_max\", \"run_name\": \"MaxAbsScaler, LightGBM\", \"run_properties\": \"copy=True\", \"primary_metric\": 0.83057057, \"best_metric\": 0.84378378}, {\"run_id\": \"AutoML_d22489fc-a63f-41bb-9d47-f59ae655801d_21\", \"run_number\": 26, \"metric\": null, \"status\": \"Completed\", \"run_type\": \"azureml.scriptrun\", \"training_percent\": \"100\", \"start_time\": \"2021-04-04T06:41:49.819786Z\", \"end_time\": \"2021-04-04T06:42:32.987988Z\", \"created_time\": \"2021-04-04T06:38:36.396579Z\", \"created_time_dt\": \"2021-04-04T06:38:36.396579Z\", \"duration\": \"0:03:56\", \"iteration\": \"21\", \"goal\": \"accuracy_max\", \"run_name\": \"StandardScalerWrapper, LightGBM\", \"run_properties\": \"<azureml.automl.runtime.shared.model_wrappers.StandardScalerWrapper object at 0x7fe43d9eca90\", \"primary_metric\": 0.82156156, \"best_metric\": 0.84378378}, {\"run_id\": \"AutoML_d22489fc-a63f-41bb-9d47-f59ae655801d_22\", \"run_number\": 27, \"metric\": null, \"status\": \"Completed\", \"run_type\": \"azureml.scriptrun\", \"training_percent\": \"100\", \"start_time\": \"2021-04-04T06:42:43.43993Z\", \"end_time\": \"2021-04-04T06:43:30.219962Z\", \"created_time\": \"2021-04-04T06:39:38.285175Z\", \"created_time_dt\": \"2021-04-04T06:39:38.285175Z\", \"duration\": \"0:03:51\", \"iteration\": \"22\", \"goal\": \"accuracy_max\", \"run_name\": \"SparseNormalizer, KNN\", \"run_properties\": \"<azureml.automl.runtime.shared.model_wrappers.SparseNormalizer object at 0x7fe4b6cffef0\", \"primary_metric\": 0.73219219, \"best_metric\": 0.84378378}, {\"run_id\": \"AutoML_d22489fc-a63f-41bb-9d47-f59ae655801d_23\", \"run_number\": 28, \"metric\": null, \"status\": \"Completed\", \"run_type\": \"azureml.scriptrun\", \"training_percent\": \"100\", \"start_time\": \"2021-04-04T06:43:49.139175Z\", \"end_time\": \"2021-04-04T06:44:30.986852Z\", \"created_time\": \"2021-04-04T06:40:39.843157Z\", \"created_time_dt\": \"2021-04-04T06:40:39.843157Z\", \"duration\": \"0:03:51\", \"iteration\": \"23\", \"goal\": \"accuracy_max\", \"run_name\": \"MaxAbsScaler, LightGBM\", \"run_properties\": \"copy=True\", \"primary_metric\": 0.72312312, \"best_metric\": 0.84378378}, {\"run_id\": \"AutoML_d22489fc-a63f-41bb-9d47-f59ae655801d_24\", \"run_number\": 29, \"metric\": null, \"status\": \"Completed\", \"run_type\": \"azureml.scriptrun\", \"training_percent\": \"100\", \"start_time\": \"2021-04-04T06:44:43.054835Z\", \"end_time\": \"2021-04-04T06:45:24.775795Z\", \"created_time\": \"2021-04-04T06:41:35.015893Z\", \"created_time_dt\": \"2021-04-04T06:41:35.015893Z\", \"duration\": \"0:03:49\", \"iteration\": \"24\", \"goal\": \"accuracy_max\", \"run_name\": \"StandardScalerWrapper, LightGBM\", \"run_properties\": \"<azureml.automl.runtime.shared.model_wrappers.StandardScalerWrapper object at 0x7f32c853beb8\", \"primary_metric\": 0.73207207, \"best_metric\": 0.84378378}, {\"run_id\": \"AutoML_d22489fc-a63f-41bb-9d47-f59ae655801d_25\", \"run_number\": 30, \"metric\": null, \"status\": \"Completed\", \"run_type\": \"azureml.scriptrun\", \"training_percent\": \"100\", \"start_time\": \"2021-04-04T06:45:40.699123Z\", \"end_time\": \"2021-04-04T06:46:22.294077Z\", \"created_time\": \"2021-04-04T06:42:36.132565Z\", \"created_time_dt\": \"2021-04-04T06:42:36.132565Z\", \"duration\": \"0:03:46\", \"iteration\": \"25\", \"goal\": \"accuracy_max\", \"run_name\": \"RobustScaler, GradientBoosting\", \"run_properties\": \"copy=True, quantile_range=[25, 75], with_centering=True,\\n             with_scaling=False\", \"primary_metric\": 0.84384384, \"best_metric\": 0.84384384}, {\"run_id\": \"AutoML_d22489fc-a63f-41bb-9d47-f59ae655801d_26\", \"run_number\": 31, \"metric\": null, \"status\": \"Completed\", \"run_type\": \"azureml.scriptrun\", \"training_percent\": \"100\", \"start_time\": \"2021-04-04T06:46:34.918446Z\", \"end_time\": \"2021-04-04T06:47:15.754711Z\", \"created_time\": \"2021-04-04T06:43:32.408886Z\", \"created_time_dt\": \"2021-04-04T06:43:32.408886Z\", \"duration\": \"0:03:43\", \"iteration\": \"26\", \"goal\": \"accuracy_max\", \"run_name\": \"SparseNormalizer, ExtremeRandomTrees\", \"run_properties\": \"<azureml.automl.runtime.shared.model_wrappers.SparseNormalizer object at 0x7f1a1dbf49b0\", \"primary_metric\": 0.71867868, \"best_metric\": 0.84384384}, {\"run_id\": \"AutoML_d22489fc-a63f-41bb-9d47-f59ae655801d_27\", \"run_number\": 32, \"metric\": null, \"status\": \"Completed\", \"run_type\": \"azureml.scriptrun\", \"training_percent\": \"100\", \"start_time\": \"2021-04-04T06:47:31.491361Z\", \"end_time\": \"2021-04-04T06:48:12.347818Z\", \"created_time\": \"2021-04-04T06:44:33.446291Z\", \"created_time_dt\": \"2021-04-04T06:44:33.446291Z\", \"duration\": \"0:03:38\", \"iteration\": \"27\", \"goal\": \"accuracy_max\", \"run_name\": \"StandardScalerWrapper, LightGBM\", \"run_properties\": \"<azureml.automl.runtime.shared.model_wrappers.StandardScalerWrapper object at 0x7f59002a0f28\", \"primary_metric\": 0.82156156, \"best_metric\": 0.84384384}, {\"run_id\": \"AutoML_d22489fc-a63f-41bb-9d47-f59ae655801d_28\", \"run_number\": 33, \"metric\": null, \"status\": \"Completed\", \"run_type\": \"azureml.scriptrun\", \"training_percent\": \"100\", \"start_time\": \"2021-04-04T06:48:25.817931Z\", \"end_time\": \"2021-04-04T06:49:12.035133Z\", \"created_time\": \"2021-04-04T06:45:27.164964Z\", \"created_time_dt\": \"2021-04-04T06:45:27.164964Z\", \"duration\": \"0:03:44\", \"iteration\": \"28\", \"goal\": \"accuracy_max\", \"run_name\": \"SparseNormalizer, LightGBM\", \"run_properties\": \"<azureml.automl.runtime.shared.model_wrappers.SparseNormalizer object at 0x7fb061188ef0\", \"primary_metric\": 0.81273273, \"best_metric\": 0.84384384}, {\"run_id\": \"AutoML_d22489fc-a63f-41bb-9d47-f59ae655801d_29\", \"run_number\": 34, \"metric\": null, \"status\": \"Completed\", \"run_type\": \"azureml.scriptrun\", \"training_percent\": \"100\", \"start_time\": \"2021-04-04T06:49:44.078378Z\", \"end_time\": \"2021-04-04T06:50:33.283111Z\", \"created_time\": \"2021-04-04T06:46:24.886388Z\", \"created_time_dt\": \"2021-04-04T06:46:24.886388Z\", \"duration\": \"0:04:08\", \"iteration\": \"29\", \"goal\": \"accuracy_max\", \"run_name\": \"MaxAbsScaler, LightGBM\", \"run_properties\": \"copy=True\", \"primary_metric\": 0.81255255, \"best_metric\": 0.84384384}, {\"run_id\": \"AutoML_d22489fc-a63f-41bb-9d47-f59ae655801d_30\", \"run_number\": 35, \"metric\": null, \"status\": \"Completed\", \"run_type\": \"azureml.scriptrun\", \"training_percent\": \"100\", \"start_time\": \"2021-04-04T06:50:44.771353Z\", \"end_time\": \"2021-04-04T06:51:29.280889Z\", \"created_time\": \"2021-04-04T06:47:19.783667Z\", \"created_time_dt\": \"2021-04-04T06:47:19.783667Z\", \"duration\": \"0:04:09\", \"iteration\": \"30\", \"goal\": \"accuracy_max\", \"run_name\": \"RobustScaler, GradientBoosting\", \"run_properties\": \"copy=True, quantile_range=[10, 90], with_centering=False,\\n             with_scaling=True\", \"primary_metric\": 0.83495495, \"best_metric\": 0.84384384}, {\"run_id\": \"AutoML_d22489fc-a63f-41bb-9d47-f59ae655801d_31\", \"run_number\": 36, \"metric\": null, \"status\": \"Canceled\", \"run_type\": \"azureml.scriptrun\", \"training_percent\": \"100\", \"start_time\": \"2021-04-04T06:48:14.778464Z\", \"end_time\": \"2021-04-04T06:51:36.990229Z\", \"created_time\": \"2021-04-04T06:48:14.778464Z\", \"created_time_dt\": \"2021-04-04T06:48:14.778464Z\", \"duration\": \"0:03:22\", \"iteration\": \"31\", \"goal\": null, \"run_name\": \"Canceled\", \"run_properties\": null}, {\"run_id\": \"AutoML_d22489fc-a63f-41bb-9d47-f59ae655801d_32\", \"run_number\": 37, \"metric\": null, \"status\": \"Canceled\", \"run_type\": \"azureml.scriptrun\", \"training_percent\": \"100\", \"start_time\": \"2021-04-04T06:49:14.546409Z\", \"end_time\": \"2021-04-04T06:51:40.01684Z\", \"created_time\": \"2021-04-04T06:49:14.546409Z\", \"created_time_dt\": \"2021-04-04T06:49:14.546409Z\", \"duration\": \"0:02:25\", \"iteration\": \"32\", \"goal\": null, \"run_name\": \"Canceled\", \"run_properties\": null}, {\"run_id\": \"AutoML_d22489fc-a63f-41bb-9d47-f59ae655801d_33\", \"run_number\": 38, \"metric\": null, \"status\": \"Canceled\", \"run_type\": \"azureml.scriptrun\", \"training_percent\": \"100\", \"start_time\": \"2021-04-04T06:50:36.652627Z\", \"end_time\": \"2021-04-04T06:51:37.933964Z\", \"created_time\": \"2021-04-04T06:50:36.652627Z\", \"created_time_dt\": \"2021-04-04T06:50:36.652627Z\", \"duration\": \"0:01:01\", \"iteration\": \"33\", \"goal\": null, \"run_name\": \"Canceled\", \"run_properties\": null}, {\"run_id\": \"AutoML_d22489fc-a63f-41bb-9d47-f59ae655801d_34\", \"run_number\": 39, \"metric\": null, \"status\": \"Completed\", \"run_type\": \"azureml.scriptrun\", \"training_percent\": \"100\", \"start_time\": \"2021-04-04T06:51:55.677461Z\", \"end_time\": \"2021-04-04T06:52:57.549199Z\", \"created_time\": \"2021-04-04T06:51:41.518624Z\", \"created_time_dt\": \"2021-04-04T06:51:41.518624Z\", \"duration\": \"0:01:16\", \"iteration\": \"34\", \"goal\": \"accuracy_max\", \"run_name\": \"VotingEnsemble\", \"run_properties\": \"classification_labels=None,\\n                              estimators=[('25',\\n                                           Pipeline(memory=None,\\n                                                    steps=[('robustscaler',\\n                                                            RobustScaler(copy=True,\\n                                                                         quantile_range=[25,\\n                                                                                         75],\\n                                                                         with_centering=True,\\n                                                                         with_scaling=False\", \"primary_metric\": 0.86612613, \"best_metric\": 0.86612613}, {\"run_id\": \"AutoML_d22489fc-a63f-41bb-9d47-f59ae655801d_35\", \"run_number\": 40, \"metric\": null, \"status\": \"Completed\", \"run_type\": \"azureml.scriptrun\", \"training_percent\": \"100\", \"start_time\": \"2021-04-04T06:53:12.75425Z\", \"end_time\": \"2021-04-04T06:54:10.54528Z\", \"created_time\": \"2021-04-04T06:51:41.825083Z\", \"created_time_dt\": \"2021-04-04T06:51:41.825083Z\", \"duration\": \"0:02:28\", \"iteration\": \"35\", \"goal\": \"accuracy_max\", \"run_name\": \"StackEnsemble\", \"run_properties\": \"base_learners=[('25',\\n                                        Pipeline(memory=None,\\n                                                 steps=[('robustscaler',\\n                                                         RobustScaler(copy=True,\\n                                                                      quantile_range=[25,\\n                                                                                      75],\\n                                                                      with_centering=True,\\n                                                                      with_scaling=False\", \"primary_metric\": 0.81711712, \"best_metric\": 0.86612613}], \"children_metrics\": {\"categories\": [0], \"series\": {\"matthews_correlation\": [{\"categories\": [\"0\", \"1\", \"2\", \"3\", \"4\", \"5\", \"6\", \"7\", \"8\", \"9\", \"10\", \"11\", \"12\", \"13\", \"14\", \"15\", \"16\", \"17\", \"18\", \"19\", \"20\", \"21\", \"22\", \"23\", \"24\", \"25\", \"26\", \"27\", \"28\", \"29\", \"30\", \"34\", \"35\"], \"mode\": \"markers\", \"name\": \"matthews_correlation\", \"stepped\": false, \"type\": \"scatter\", \"data\": [0.5162370532430168, 0.5409338614284921, 0.47167683690663315, 0.5817326046490628, 0.5565474285179236, 0.25818089590333837, 0.2743983019112632, 0.27206705343060406, 0.3734014178190151, 0.41906614235031, 0.6180437942714327, 0.5432784620795346, 0.6113532893776336, 0.43848853400053606, 0.5412632839128043, 0.5247173198666601, 0.0, 0.5395764738359075, 0.5857503750213194, 0.38521794431701833, 0.6036763072127889, 0.5750033691496182, 0.3030598452030398, 0.2674902690970279, 0.30453267924240707, 0.6314954766018429, 0.24761807008688844, 0.5784280081423404, 0.5589434822529349, 0.5515443714382396, 0.6055077372282027, 0.6840897998034564, 0.5813141711570583]}, {\"categories\": [\"0\", \"1\", \"2\", \"3\", \"4\", \"5\", \"6\", \"7\", \"8\", \"9\", \"10\", \"11\", \"12\", \"13\", \"14\", \"15\", \"16\", \"17\", \"18\", \"19\", \"20\", \"21\", \"22\", \"23\", \"24\", \"25\", \"26\", \"27\", \"28\", \"29\", \"30\", \"34\", \"35\"], \"mode\": \"lines\", \"name\": \"matthews_correlation_max\", \"stepped\": true, \"type\": \"scatter\", \"data\": [0.5162370532430168, 0.5409338614284921, 0.5409338614284921, 0.5817326046490628, 0.5817326046490628, 0.5817326046490628, 0.5817326046490628, 0.5817326046490628, 0.5817326046490628, 0.5817326046490628, 0.6180437942714327, 0.6180437942714327, 0.6180437942714327, 0.6180437942714327, 0.6180437942714327, 0.6180437942714327, 0.6180437942714327, 0.6180437942714327, 0.6180437942714327, 0.6180437942714327, 0.6180437942714327, 0.6180437942714327, 0.6180437942714327, 0.6180437942714327, 0.6180437942714327, 0.6314954766018429, 0.6314954766018429, 0.6314954766018429, 0.6314954766018429, 0.6314954766018429, 0.6314954766018429, 0.6840897998034564, 0.6840897998034564]}], \"precision_score_macro\": [{\"categories\": [\"0\", \"1\", \"2\", \"3\", \"4\", \"5\", \"6\", \"7\", \"8\", \"9\", \"10\", \"11\", \"12\", \"13\", \"14\", \"15\", \"16\", \"17\", \"18\", \"19\", \"20\", \"21\", \"22\", \"23\", \"24\", \"25\", \"26\", \"27\", \"28\", \"29\", \"30\", \"34\", \"35\"], \"mode\": \"markers\", \"name\": \"precision_score_macro\", \"stepped\": false, \"type\": \"scatter\", \"data\": [0.7772861892358748, 0.7848061801364175, 0.7904604356217261, 0.7993752216363057, 0.7709604719931337, 0.6646658896658897, 0.6693113021238021, 0.6689323022656355, 0.755953557312253, 0.8362210298830016, 0.8411816585264708, 0.8005958685435951, 0.8170579635362918, 0.8019762381623519, 0.8317230636221092, 0.8086935709263977, 0.34597597597597596, 0.8355810996154079, 0.8102149224951795, 0.8001159312779031, 0.8177729972426374, 0.7990253411306044, 0.7437923187923188, 0.8574827963213068, 0.8342391304347826, 0.8278092852199107, 0.7395931142410014, 0.8030395936625605, 0.8220322295798991, 0.787159291325958, 0.82508074230077, 0.8654471523893431, 0.8033869685302294]}, {\"categories\": [\"0\", \"1\", \"2\", \"3\", \"4\", \"5\", \"6\", \"7\", \"8\", \"9\", \"10\", \"11\", \"12\", \"13\", \"14\", \"15\", \"16\", \"17\", \"18\", \"19\", \"20\", \"21\", \"22\", \"23\", \"24\", \"25\", \"26\", \"27\", \"28\", \"29\", \"30\", \"34\", \"35\"], \"mode\": \"lines\", \"name\": \"precision_score_macro_max\", \"stepped\": true, \"type\": \"scatter\", \"data\": [0.7772861892358748, 0.7848061801364175, 0.7904604356217261, 0.7993752216363057, 0.7993752216363057, 0.7993752216363057, 0.7993752216363057, 0.7993752216363057, 0.7993752216363057, 0.8362210298830016, 0.8411816585264708, 0.8411816585264708, 0.8411816585264708, 0.8411816585264708, 0.8411816585264708, 0.8411816585264708, 0.8411816585264708, 0.8411816585264708, 0.8411816585264708, 0.8411816585264708, 0.8411816585264708, 0.8411816585264708, 0.8411816585264708, 0.8574827963213068, 0.8574827963213068, 0.8574827963213068, 0.8574827963213068, 0.8574827963213068, 0.8574827963213068, 0.8574827963213068, 0.8574827963213068, 0.8654471523893431, 0.8654471523893431]}], \"recall_score_macro\": [{\"categories\": [\"0\", \"1\", \"2\", \"3\", \"4\", \"5\", \"6\", \"7\", \"8\", \"9\", \"10\", \"11\", \"12\", \"13\", \"14\", \"15\", \"16\", \"17\", \"18\", \"19\", \"20\", \"21\", \"22\", \"23\", \"24\", \"25\", \"26\", \"27\", \"28\", \"29\", \"30\", \"34\", \"35\"], \"mode\": \"markers\", \"name\": \"recall_score_macro\", \"stepped\": false, \"type\": \"scatter\", \"data\": [0.7424015542313205, 0.7574756563783239, 0.6918241584709145, 0.7840157473702254, 0.7869182167315608, 0.6045611566094359, 0.612701912911957, 0.6124012491681985, 0.647006505797505, 0.6381884158867378, 0.7800927112941966, 0.7486507559630344, 0.794992514973614, 0.6628486221592629, 0.7240510281576822, 0.7290115904400576, 0.5, 0.7197808418222785, 0.7777377901749732, 0.630418698541371, 0.7884285833580825, 0.7773746819687277, 0.5967852074298657, 0.5546797751221856, 0.5738947307883234, 0.8052324868840662, 0.5704701153281043, 0.7774182009442475, 0.7466630382553903, 0.7655825456294899, 0.7831126655679647, 0.8213972861371008, 0.7811862943329717]}, {\"categories\": [\"0\", \"1\", \"2\", \"3\", \"4\", \"5\", \"6\", \"7\", \"8\", \"9\", \"10\", \"11\", \"12\", \"13\", \"14\", \"15\", \"16\", \"17\", \"18\", \"19\", \"20\", \"21\", \"22\", \"23\", \"24\", \"25\", \"26\", \"27\", \"28\", \"29\", \"30\", \"34\", \"35\"], \"mode\": \"lines\", \"name\": \"recall_score_macro_max\", \"stepped\": true, \"type\": \"scatter\", \"data\": [0.7424015542313205, 0.7574756563783239, 0.7574756563783239, 0.7840157473702254, 0.7869182167315608, 0.7869182167315608, 0.7869182167315608, 0.7869182167315608, 0.7869182167315608, 0.7869182167315608, 0.7869182167315608, 0.7869182167315608, 0.794992514973614, 0.794992514973614, 0.794992514973614, 0.794992514973614, 0.794992514973614, 0.794992514973614, 0.794992514973614, 0.794992514973614, 0.794992514973614, 0.794992514973614, 0.794992514973614, 0.794992514973614, 0.794992514973614, 0.8052324868840662, 0.8052324868840662, 0.8052324868840662, 0.8052324868840662, 0.8052324868840662, 0.8052324868840662, 0.8213972861371008, 0.8213972861371008]}], \"weighted_accuracy\": [{\"categories\": [\"0\", \"1\", \"2\", \"3\", \"4\", \"5\", \"6\", \"7\", \"8\", \"9\", \"10\", \"11\", \"12\", \"13\", \"14\", \"15\", \"16\", \"17\", \"18\", \"19\", \"20\", \"21\", \"22\", \"23\", \"24\", \"25\", \"26\", \"27\", \"28\", \"29\", \"30\", \"34\", \"35\"], \"mode\": \"markers\", \"name\": \"weighted_accuracy\", \"stepped\": false, \"type\": \"scatter\", \"data\": [0.834570430584396, 0.845807445773373, 0.8608979227560688, 0.8503257436609623, 0.801013379281884, 0.7879777002031266, 0.803960628738572, 0.7824193200075092, 0.8200813396151135, 0.8559862115851674, 0.88987192438699, 0.8542804980458493, 0.8711014497622166, 0.853318050151723, 0.8706639678768243, 0.8601211935942669, 0.8291343303666179, 0.8735524622899572, 0.8629264920896541, 0.8458553311073626, 0.863040968322513, 0.8550312313317924, 0.8301708288179644, 0.8447627673800827, 0.8466527081779134, 0.8734836404759236, 0.8270187483833777, 0.8552228478529235, 0.8632338263930261, 0.8478244568626673, 0.8740576505318013, 0.9001413777044823, 0.8460412827149147]}, {\"categories\": [\"0\", \"1\", \"2\", \"3\", \"4\", \"5\", \"6\", \"7\", \"8\", \"9\", \"10\", \"11\", \"12\", \"13\", \"14\", \"15\", \"16\", \"17\", \"18\", \"19\", \"20\", \"21\", \"22\", \"23\", \"24\", \"25\", \"26\", \"27\", \"28\", \"29\", \"30\", \"34\", \"35\"], \"mode\": \"lines\", \"name\": \"weighted_accuracy_max\", \"stepped\": true, \"type\": \"scatter\", \"data\": [0.834570430584396, 0.845807445773373, 0.8608979227560688, 0.8608979227560688, 0.8608979227560688, 0.8608979227560688, 0.8608979227560688, 0.8608979227560688, 0.8608979227560688, 0.8608979227560688, 0.88987192438699, 0.88987192438699, 0.88987192438699, 0.88987192438699, 0.88987192438699, 0.88987192438699, 0.88987192438699, 0.88987192438699, 0.88987192438699, 0.88987192438699, 0.88987192438699, 0.88987192438699, 0.88987192438699, 0.88987192438699, 0.88987192438699, 0.88987192438699, 0.88987192438699, 0.88987192438699, 0.88987192438699, 0.88987192438699, 0.88987192438699, 0.9001413777044823, 0.9001413777044823]}], \"precision_score_micro\": [{\"categories\": [\"0\", \"1\", \"2\", \"3\", \"4\", \"5\", \"6\", \"7\", \"8\", \"9\", \"10\", \"11\", \"12\", \"13\", \"14\", \"15\", \"16\", \"17\", \"18\", \"19\", \"20\", \"21\", \"22\", \"23\", \"24\", \"25\", \"26\", \"27\", \"28\", \"29\", \"30\", \"34\", \"35\"], \"mode\": \"markers\", \"name\": \"precision_score_micro\", \"stepped\": false, \"type\": \"scatter\", \"data\": [0.7948948948948948, 0.8082882882882884, 0.7902102102102102, 0.8215015015015016, 0.7948948948948948, 0.7097297297297297, 0.7230030030030029, 0.7099099099099099, 0.7455855855855855, 0.7634234234234234, 0.8437837837837838, 0.8081081081081081, 0.8393393393393392, 0.7724924924924926, 0.8081681681681682, 0.8037837837837838, 0.6919519519519519, 0.8081081081081081, 0.8261261261261262, 0.7545345345345346, 0.8305705705705706, 0.8215615615615616, 0.7321921921921922, 0.7231231231231231, 0.732072072072072, 0.8438438438438439, 0.7186786786786787, 0.8215615615615616, 0.8127327327327327, 0.8125525525525527, 0.834954954954955, 0.866126126126126, 0.8171171171171171]}, {\"categories\": [\"0\", \"1\", \"2\", \"3\", \"4\", \"5\", \"6\", \"7\", \"8\", \"9\", \"10\", \"11\", \"12\", \"13\", \"14\", \"15\", \"16\", \"17\", \"18\", \"19\", \"20\", \"21\", \"22\", \"23\", \"24\", \"25\", \"26\", \"27\", \"28\", \"29\", \"30\", \"34\", \"35\"], \"mode\": \"lines\", \"name\": \"precision_score_micro_max\", \"stepped\": true, \"type\": \"scatter\", \"data\": [0.7948948948948948, 0.8082882882882884, 0.8082882882882884, 0.8215015015015016, 0.8215015015015016, 0.8215015015015016, 0.8215015015015016, 0.8215015015015016, 0.8215015015015016, 0.8215015015015016, 0.8437837837837838, 0.8437837837837838, 0.8437837837837838, 0.8437837837837838, 0.8437837837837838, 0.8437837837837838, 0.8437837837837838, 0.8437837837837838, 0.8437837837837838, 0.8437837837837838, 0.8437837837837838, 0.8437837837837838, 0.8437837837837838, 0.8437837837837838, 0.8437837837837838, 0.8438438438438439, 0.8438438438438439, 0.8438438438438439, 0.8438438438438439, 0.8438438438438439, 0.8438438438438439, 0.866126126126126, 0.866126126126126]}], \"AUC_weighted\": [{\"categories\": [\"0\", \"1\", \"2\", \"3\", \"4\", \"5\", \"6\", \"7\", \"8\", \"9\", \"10\", \"11\", \"12\", \"13\", \"14\", \"15\", \"16\", \"17\", \"18\", \"19\", \"20\", \"21\", \"22\", \"23\", \"24\", \"25\", \"26\", \"27\", \"28\", \"29\", \"30\", \"34\", \"35\"], \"mode\": \"markers\", \"name\": \"AUC_weighted\", \"stepped\": false, \"type\": \"scatter\", \"data\": [0.8689699189560843, 0.8822973294750565, 0.8920811410136279, 0.8986325990689522, 0.8828903577421023, 0.692362977199242, 0.6790041058093435, 0.7218743226589729, 0.7589003773247017, 0.8973834625242024, 0.9024600580973131, 0.8915718122150124, 0.90152165514905, 0.8961545027791606, 0.8772979196198637, 0.87608790267244, 0.8508879552612072, 0.8686636688180935, 0.879045869979486, 0.8806624621767231, 0.89339104288776, 0.8919654020039521, 0.6864140583769739, 0.8626651871303087, 0.8779671592624959, 0.9124824598596678, 0.8194711720889162, 0.889142005221446, 0.8653261160384148, 0.8987897204252778, 0.9003410415780856, 0.9103752541500257, 0.9098004861463753]}, {\"categories\": [\"0\", \"1\", \"2\", \"3\", \"4\", \"5\", \"6\", \"7\", \"8\", \"9\", \"10\", \"11\", \"12\", \"13\", \"14\", \"15\", \"16\", \"17\", \"18\", \"19\", \"20\", \"21\", \"22\", \"23\", \"24\", \"25\", \"26\", \"27\", \"28\", \"29\", \"30\", \"34\", \"35\"], \"mode\": \"lines\", \"name\": \"AUC_weighted_max\", \"stepped\": true, \"type\": \"scatter\", \"data\": [0.8689699189560843, 0.8822973294750565, 0.8920811410136279, 0.8986325990689522, 0.8986325990689522, 0.8986325990689522, 0.8986325990689522, 0.8986325990689522, 0.8986325990689522, 0.8986325990689522, 0.9024600580973131, 0.9024600580973131, 0.9024600580973131, 0.9024600580973131, 0.9024600580973131, 0.9024600580973131, 0.9024600580973131, 0.9024600580973131, 0.9024600580973131, 0.9024600580973131, 0.9024600580973131, 0.9024600580973131, 0.9024600580973131, 0.9024600580973131, 0.9024600580973131, 0.9124824598596678, 0.9124824598596678, 0.9124824598596678, 0.9124824598596678, 0.9124824598596678, 0.9124824598596678, 0.9124824598596678, 0.9124824598596678]}], \"average_precision_score_macro\": [{\"categories\": [\"0\", \"1\", \"2\", \"3\", \"4\", \"5\", \"6\", \"7\", \"8\", \"9\", \"10\", \"11\", \"12\", \"13\", \"14\", \"15\", \"16\", \"17\", \"18\", \"19\", \"20\", \"21\", \"22\", \"23\", \"24\", \"25\", \"26\", \"27\", \"28\", \"29\", \"30\", \"34\", \"35\"], \"mode\": \"markers\", \"name\": \"average_precision_score_macro\", \"stepped\": false, \"type\": \"scatter\", \"data\": [0.8432731621380292, 0.8703026668670856, 0.8781704490056242, 0.8690619302717604, 0.8559527389299619, 0.6819637472540409, 0.6743646890809473, 0.7000892442678536, 0.7394741857940964, 0.8889796647373007, 0.8792061822655505, 0.8664720411667733, 0.8776587401689238, 0.8690281027186435, 0.8652484235876972, 0.8410166902904406, 0.8394484736411276, 0.8561426075448736, 0.8512637025060564, 0.8559154183360622, 0.86581381676431, 0.8584481291541947, 0.6976325534584419, 0.8426600661572218, 0.8500655565732486, 0.894675727771656, 0.8037697297229389, 0.8627083753908164, 0.84236943001228, 0.8774966807430077, 0.8726842599018059, 0.888046372465075, 0.8922274358817693]}, {\"categories\": [\"0\", \"1\", \"2\", \"3\", \"4\", \"5\", \"6\", \"7\", \"8\", \"9\", \"10\", \"11\", \"12\", \"13\", \"14\", \"15\", \"16\", \"17\", \"18\", \"19\", \"20\", \"21\", \"22\", \"23\", \"24\", \"25\", \"26\", \"27\", \"28\", \"29\", \"30\", \"34\", \"35\"], \"mode\": \"lines\", \"name\": \"average_precision_score_macro_max\", \"stepped\": true, \"type\": \"scatter\", \"data\": [0.8432731621380292, 0.8703026668670856, 0.8781704490056242, 0.8781704490056242, 0.8781704490056242, 0.8781704490056242, 0.8781704490056242, 0.8781704490056242, 0.8781704490056242, 0.8889796647373007, 0.8889796647373007, 0.8889796647373007, 0.8889796647373007, 0.8889796647373007, 0.8889796647373007, 0.8889796647373007, 0.8889796647373007, 0.8889796647373007, 0.8889796647373007, 0.8889796647373007, 0.8889796647373007, 0.8889796647373007, 0.8889796647373007, 0.8889796647373007, 0.8889796647373007, 0.894675727771656, 0.894675727771656, 0.894675727771656, 0.894675727771656, 0.894675727771656, 0.894675727771656, 0.894675727771656, 0.894675727771656]}], \"f1_score_micro\": [{\"categories\": [\"0\", \"1\", \"2\", \"3\", \"4\", \"5\", \"6\", \"7\", \"8\", \"9\", \"10\", \"11\", \"12\", \"13\", \"14\", \"15\", \"16\", \"17\", \"18\", \"19\", \"20\", \"21\", \"22\", \"23\", \"24\", \"25\", \"26\", \"27\", \"28\", \"29\", \"30\", \"34\", \"35\"], \"mode\": \"markers\", \"name\": \"f1_score_micro\", \"stepped\": false, \"type\": \"scatter\", \"data\": [0.7948948948948948, 0.8082882882882884, 0.7902102102102102, 0.8215015015015016, 0.7948948948948948, 0.7097297297297297, 0.7230030030030029, 0.7099099099099099, 0.7455855855855856, 0.7634234234234234, 0.8437837837837838, 0.8081081081081081, 0.8393393393393392, 0.7724924924924926, 0.8081681681681682, 0.8037837837837838, 0.6919519519519519, 0.8081081081081081, 0.826126126126126, 0.7545345345345346, 0.8305705705705706, 0.8215615615615616, 0.7321921921921922, 0.7231231231231231, 0.732072072072072, 0.8438438438438439, 0.7186786786786787, 0.8215615615615617, 0.8127327327327327, 0.8125525525525527, 0.834954954954955, 0.866126126126126, 0.8171171171171173]}, {\"categories\": [\"0\", \"1\", \"2\", \"3\", \"4\", \"5\", \"6\", \"7\", \"8\", \"9\", \"10\", \"11\", \"12\", \"13\", \"14\", \"15\", \"16\", \"17\", \"18\", \"19\", \"20\", \"21\", \"22\", \"23\", \"24\", \"25\", \"26\", \"27\", \"28\", \"29\", \"30\", \"34\", \"35\"], \"mode\": \"lines\", \"name\": \"f1_score_micro_max\", \"stepped\": true, \"type\": \"scatter\", \"data\": [0.7948948948948948, 0.8082882882882884, 0.8082882882882884, 0.8215015015015016, 0.8215015015015016, 0.8215015015015016, 0.8215015015015016, 0.8215015015015016, 0.8215015015015016, 0.8215015015015016, 0.8437837837837838, 0.8437837837837838, 0.8437837837837838, 0.8437837837837838, 0.8437837837837838, 0.8437837837837838, 0.8437837837837838, 0.8437837837837838, 0.8437837837837838, 0.8437837837837838, 0.8437837837837838, 0.8437837837837838, 0.8437837837837838, 0.8437837837837838, 0.8437837837837838, 0.8438438438438439, 0.8438438438438439, 0.8438438438438439, 0.8438438438438439, 0.8438438438438439, 0.8438438438438439, 0.866126126126126, 0.866126126126126]}], \"precision_score_weighted\": [{\"categories\": [\"0\", \"1\", \"2\", \"3\", \"4\", \"5\", \"6\", \"7\", \"8\", \"9\", \"10\", \"11\", \"12\", \"13\", \"14\", \"15\", \"16\", \"17\", \"18\", \"19\", \"20\", \"21\", \"22\", \"23\", \"24\", \"25\", \"26\", \"27\", \"28\", \"29\", \"30\", \"34\", \"35\"], \"mode\": \"markers\", \"name\": \"precision_score_weighted\", \"stepped\": false, \"type\": \"scatter\", \"data\": [0.799101372057347, 0.807503476269214, 0.7970835848255203, 0.8267322324740981, 0.8187215025582284, 0.7040079380079381, 0.7039708099708101, 0.706699177810289, 0.7643129295303207, 0.8128423023962931, 0.8462586075724744, 0.8157590442604361, 0.8381168142932848, 0.7965343530820869, 0.8306755241770705, 0.8163576923909641, 0.48069761653545434, 0.8309711410742029, 0.8288493096432018, 0.7906445743652316, 0.8367751811346263, 0.8229844464347389, 0.752049611049611, 0.8051248624661707, 0.7973111154632894, 0.8478983227543306, 0.742850568878738, 0.8240559572195876, 0.8306501842660033, 0.8123172573728129, 0.8386164131657886, 0.8730415574157968, 0.8314498937380294]}, {\"categories\": [\"0\", \"1\", \"2\", \"3\", \"4\", \"5\", \"6\", \"7\", \"8\", \"9\", \"10\", \"11\", \"12\", \"13\", \"14\", \"15\", \"16\", \"17\", \"18\", \"19\", \"20\", \"21\", \"22\", \"23\", \"24\", \"25\", \"26\", \"27\", \"28\", \"29\", \"30\", \"34\", \"35\"], \"mode\": \"lines\", \"name\": \"precision_score_weighted_max\", \"stepped\": true, \"type\": \"scatter\", \"data\": [0.799101372057347, 0.807503476269214, 0.807503476269214, 0.8267322324740981, 0.8267322324740981, 0.8267322324740981, 0.8267322324740981, 0.8267322324740981, 0.8267322324740981, 0.8267322324740981, 0.8462586075724744, 0.8462586075724744, 0.8462586075724744, 0.8462586075724744, 0.8462586075724744, 0.8462586075724744, 0.8462586075724744, 0.8462586075724744, 0.8462586075724744, 0.8462586075724744, 0.8462586075724744, 0.8462586075724744, 0.8462586075724744, 0.8462586075724744, 0.8462586075724744, 0.8478983227543306, 0.8478983227543306, 0.8478983227543306, 0.8478983227543306, 0.8478983227543306, 0.8478983227543306, 0.8730415574157968, 0.8730415574157968]}], \"recall_score_micro\": [{\"categories\": [\"0\", \"1\", \"2\", \"3\", \"4\", \"5\", \"6\", \"7\", \"8\", \"9\", \"10\", \"11\", \"12\", \"13\", \"14\", \"15\", \"16\", \"17\", \"18\", \"19\", \"20\", \"21\", \"22\", \"23\", \"24\", \"25\", \"26\", \"27\", \"28\", \"29\", \"30\", \"34\", \"35\"], \"mode\": \"markers\", \"name\": \"recall_score_micro\", \"stepped\": false, \"type\": \"scatter\", \"data\": [0.7948948948948948, 0.8082882882882884, 0.7902102102102102, 0.8215015015015016, 0.7948948948948948, 0.7097297297297297, 0.7230030030030029, 0.7099099099099099, 0.7455855855855855, 0.7634234234234234, 0.8437837837837838, 0.8081081081081081, 0.8393393393393392, 0.7724924924924926, 0.8081681681681682, 0.8037837837837838, 0.6919519519519519, 0.8081081081081081, 0.8261261261261262, 0.7545345345345346, 0.8305705705705706, 0.8215615615615616, 0.7321921921921922, 0.7231231231231231, 0.732072072072072, 0.8438438438438439, 0.7186786786786787, 0.8215615615615616, 0.8127327327327327, 0.8125525525525527, 0.834954954954955, 0.866126126126126, 0.8171171171171171]}, {\"categories\": [\"0\", \"1\", \"2\", \"3\", \"4\", \"5\", \"6\", \"7\", \"8\", \"9\", \"10\", \"11\", \"12\", \"13\", \"14\", \"15\", \"16\", \"17\", \"18\", \"19\", \"20\", \"21\", \"22\", \"23\", \"24\", \"25\", \"26\", \"27\", \"28\", \"29\", \"30\", \"34\", \"35\"], \"mode\": \"lines\", \"name\": \"recall_score_micro_max\", \"stepped\": true, \"type\": \"scatter\", \"data\": [0.7948948948948948, 0.8082882882882884, 0.8082882882882884, 0.8215015015015016, 0.8215015015015016, 0.8215015015015016, 0.8215015015015016, 0.8215015015015016, 0.8215015015015016, 0.8215015015015016, 0.8437837837837838, 0.8437837837837838, 0.8437837837837838, 0.8437837837837838, 0.8437837837837838, 0.8437837837837838, 0.8437837837837838, 0.8437837837837838, 0.8437837837837838, 0.8437837837837838, 0.8437837837837838, 0.8437837837837838, 0.8437837837837838, 0.8437837837837838, 0.8437837837837838, 0.8438438438438439, 0.8438438438438439, 0.8438438438438439, 0.8438438438438439, 0.8438438438438439, 0.8438438438438439, 0.866126126126126, 0.866126126126126]}], \"norm_macro_recall\": [{\"categories\": [\"0\", \"1\", \"2\", \"3\", \"4\", \"5\", \"6\", \"7\", \"8\", \"9\", \"10\", \"11\", \"12\", \"13\", \"14\", \"15\", \"16\", \"17\", \"18\", \"19\", \"20\", \"21\", \"22\", \"23\", \"24\", \"25\", \"26\", \"27\", \"28\", \"29\", \"30\", \"34\", \"35\"], \"mode\": \"markers\", \"name\": \"norm_macro_recall\", \"stepped\": false, \"type\": \"scatter\", \"data\": [0.4848031084626409, 0.5149513127566476, 0.3836483169418288, 0.5680314947404507, 0.5738364334631216, 0.20912231321887176, 0.2254038258239138, 0.22480249833639698, 0.29401301159501, 0.27637683177347555, 0.560185422588393, 0.49730151192606886, 0.5899850299472277, 0.32569724431852576, 0.4481020563153644, 0.4580231808801154, 0.0, 0.439561683644557, 0.5554755803499466, 0.26083739708274195, 0.5768571667161652, 0.5547493639374556, 0.19357041485973148, 0.10935955024437094, 0.14778946157664694, 0.6104649737681326, 0.14094023065620856, 0.5548364018884951, 0.4933260765107806, 0.53116509125898, 0.5662253311359292, 0.6427945722742017, 0.5623725886659435]}, {\"categories\": [\"0\", \"1\", \"2\", \"3\", \"4\", \"5\", \"6\", \"7\", \"8\", \"9\", \"10\", \"11\", \"12\", \"13\", \"14\", \"15\", \"16\", \"17\", \"18\", \"19\", \"20\", \"21\", \"22\", \"23\", \"24\", \"25\", \"26\", \"27\", \"28\", \"29\", \"30\", \"34\", \"35\"], \"mode\": \"lines\", \"name\": \"norm_macro_recall_max\", \"stepped\": true, \"type\": \"scatter\", \"data\": [0.4848031084626409, 0.5149513127566476, 0.5149513127566476, 0.5680314947404507, 0.5738364334631216, 0.5738364334631216, 0.5738364334631216, 0.5738364334631216, 0.5738364334631216, 0.5738364334631216, 0.5738364334631216, 0.5738364334631216, 0.5899850299472277, 0.5899850299472277, 0.5899850299472277, 0.5899850299472277, 0.5899850299472277, 0.5899850299472277, 0.5899850299472277, 0.5899850299472277, 0.5899850299472277, 0.5899850299472277, 0.5899850299472277, 0.5899850299472277, 0.5899850299472277, 0.6104649737681326, 0.6104649737681326, 0.6104649737681326, 0.6104649737681326, 0.6104649737681326, 0.6104649737681326, 0.6427945722742017, 0.6427945722742017]}], \"accuracy\": [{\"categories\": [\"0\", \"1\", \"2\", \"3\", \"4\", \"5\", \"6\", \"7\", \"8\", \"9\", \"10\", \"11\", \"12\", \"13\", \"14\", \"15\", \"16\", \"17\", \"18\", \"19\", \"20\", \"21\", \"22\", \"23\", \"24\", \"25\", \"26\", \"27\", \"28\", \"29\", \"30\", \"34\", \"35\"], \"mode\": \"markers\", \"name\": \"accuracy\", \"stepped\": false, \"type\": \"scatter\", \"data\": [0.7948948948948948, 0.8082882882882884, 0.7902102102102102, 0.8215015015015016, 0.7948948948948948, 0.7097297297297297, 0.7230030030030029, 0.7099099099099099, 0.7455855855855855, 0.7634234234234234, 0.8437837837837838, 0.8081081081081081, 0.8393393393393392, 0.7724924924924926, 0.8081681681681682, 0.8037837837837838, 0.6919519519519519, 0.8081081081081081, 0.8261261261261262, 0.7545345345345346, 0.8305705705705706, 0.8215615615615616, 0.7321921921921922, 0.7231231231231231, 0.732072072072072, 0.8438438438438439, 0.7186786786786787, 0.8215615615615616, 0.8127327327327327, 0.8125525525525527, 0.834954954954955, 0.866126126126126, 0.8171171171171171]}, {\"categories\": [\"0\", \"1\", \"2\", \"3\", \"4\", \"5\", \"6\", \"7\", \"8\", \"9\", \"10\", \"11\", \"12\", \"13\", \"14\", \"15\", \"16\", \"17\", \"18\", \"19\", \"20\", \"21\", \"22\", \"23\", \"24\", \"25\", \"26\", \"27\", \"28\", \"29\", \"30\", \"34\", \"35\"], \"mode\": \"lines\", \"name\": \"accuracy_max\", \"stepped\": true, \"type\": \"scatter\", \"data\": [0.7948948948948948, 0.8082882882882884, 0.8082882882882884, 0.8215015015015016, 0.8215015015015016, 0.8215015015015016, 0.8215015015015016, 0.8215015015015016, 0.8215015015015016, 0.8215015015015016, 0.8437837837837838, 0.8437837837837838, 0.8437837837837838, 0.8437837837837838, 0.8437837837837838, 0.8437837837837838, 0.8437837837837838, 0.8437837837837838, 0.8437837837837838, 0.8437837837837838, 0.8437837837837838, 0.8437837837837838, 0.8437837837837838, 0.8437837837837838, 0.8437837837837838, 0.8438438438438439, 0.8438438438438439, 0.8438438438438439, 0.8438438438438439, 0.8438438438438439, 0.8438438438438439, 0.866126126126126, 0.866126126126126]}], \"balanced_accuracy\": [{\"categories\": [\"0\", \"1\", \"2\", \"3\", \"4\", \"5\", \"6\", \"7\", \"8\", \"9\", \"10\", \"11\", \"12\", \"13\", \"14\", \"15\", \"16\", \"17\", \"18\", \"19\", \"20\", \"21\", \"22\", \"23\", \"24\", \"25\", \"26\", \"27\", \"28\", \"29\", \"30\", \"34\", \"35\"], \"mode\": \"markers\", \"name\": \"balanced_accuracy\", \"stepped\": false, \"type\": \"scatter\", \"data\": [0.7424015542313205, 0.7574756563783239, 0.6918241584709145, 0.7840157473702254, 0.7869182167315608, 0.6045611566094359, 0.612701912911957, 0.6124012491681985, 0.647006505797505, 0.6381884158867378, 0.7800927112941966, 0.7486507559630344, 0.794992514973614, 0.6628486221592629, 0.7240510281576822, 0.7290115904400576, 0.5, 0.7197808418222785, 0.7777377901749732, 0.630418698541371, 0.7884285833580825, 0.7773746819687277, 0.5967852074298657, 0.5546797751221856, 0.5738947307883234, 0.8052324868840662, 0.5704701153281043, 0.7774182009442475, 0.7466630382553903, 0.7655825456294899, 0.7831126655679647, 0.8213972861371008, 0.7811862943329717]}, {\"categories\": [\"0\", \"1\", \"2\", \"3\", \"4\", \"5\", \"6\", \"7\", \"8\", \"9\", \"10\", \"11\", \"12\", \"13\", \"14\", \"15\", \"16\", \"17\", \"18\", \"19\", \"20\", \"21\", \"22\", \"23\", \"24\", \"25\", \"26\", \"27\", \"28\", \"29\", \"30\", \"34\", \"35\"], \"mode\": \"lines\", \"name\": \"balanced_accuracy_max\", \"stepped\": true, \"type\": \"scatter\", \"data\": [0.7424015542313205, 0.7574756563783239, 0.7574756563783239, 0.7840157473702254, 0.7869182167315608, 0.7869182167315608, 0.7869182167315608, 0.7869182167315608, 0.7869182167315608, 0.7869182167315608, 0.7869182167315608, 0.7869182167315608, 0.794992514973614, 0.794992514973614, 0.794992514973614, 0.794992514973614, 0.794992514973614, 0.794992514973614, 0.794992514973614, 0.794992514973614, 0.794992514973614, 0.794992514973614, 0.794992514973614, 0.794992514973614, 0.794992514973614, 0.8052324868840662, 0.8052324868840662, 0.8052324868840662, 0.8052324868840662, 0.8052324868840662, 0.8052324868840662, 0.8213972861371008, 0.8213972861371008]}], \"AUC_macro\": [{\"categories\": [\"0\", \"1\", \"2\", \"3\", \"4\", \"5\", \"6\", \"7\", \"8\", \"9\", \"10\", \"11\", \"12\", \"13\", \"14\", \"15\", \"16\", \"17\", \"18\", \"19\", \"20\", \"21\", \"22\", \"23\", \"24\", \"25\", \"26\", \"27\", \"28\", \"29\", \"30\", \"34\", \"35\"], \"mode\": \"markers\", \"name\": \"AUC_macro\", \"stepped\": false, \"type\": \"scatter\", \"data\": [0.8689699189560843, 0.8822973294750565, 0.8920811410136279, 0.8986325990689522, 0.8828903577421023, 0.692362977199242, 0.6790041058093435, 0.7218743226589729, 0.7589003773247017, 0.8973834625242022, 0.9024600580973129, 0.8915718122150124, 0.90152165514905, 0.8961545027791606, 0.8772979196198637, 0.87608790267244, 0.8508879552612073, 0.8686636688180936, 0.879045869979486, 0.8806624621767231, 0.89339104288776, 0.8919654020039521, 0.6864140583769739, 0.8626651871303087, 0.8779671592624959, 0.9124824598596678, 0.8194711720889162, 0.889142005221446, 0.8653261160384148, 0.8987897204252778, 0.9003410415780856, 0.9103752541500256, 0.9098004861463753]}, {\"categories\": [\"0\", \"1\", \"2\", \"3\", \"4\", \"5\", \"6\", \"7\", \"8\", \"9\", \"10\", \"11\", \"12\", \"13\", \"14\", \"15\", \"16\", \"17\", \"18\", \"19\", \"20\", \"21\", \"22\", \"23\", \"24\", \"25\", \"26\", \"27\", \"28\", \"29\", \"30\", \"34\", \"35\"], \"mode\": \"lines\", \"name\": \"AUC_macro_max\", \"stepped\": true, \"type\": \"scatter\", \"data\": [0.8689699189560843, 0.8822973294750565, 0.8920811410136279, 0.8986325990689522, 0.8986325990689522, 0.8986325990689522, 0.8986325990689522, 0.8986325990689522, 0.8986325990689522, 0.8986325990689522, 0.9024600580973129, 0.9024600580973129, 0.9024600580973129, 0.9024600580973129, 0.9024600580973129, 0.9024600580973129, 0.9024600580973129, 0.9024600580973129, 0.9024600580973129, 0.9024600580973129, 0.9024600580973129, 0.9024600580973129, 0.9024600580973129, 0.9024600580973129, 0.9024600580973129, 0.9124824598596678, 0.9124824598596678, 0.9124824598596678, 0.9124824598596678, 0.9124824598596678, 0.9124824598596678, 0.9124824598596678, 0.9124824598596678]}], \"recall_score_weighted\": [{\"categories\": [\"0\", \"1\", \"2\", \"3\", \"4\", \"5\", \"6\", \"7\", \"8\", \"9\", \"10\", \"11\", \"12\", \"13\", \"14\", \"15\", \"16\", \"17\", \"18\", \"19\", \"20\", \"21\", \"22\", \"23\", \"24\", \"25\", \"26\", \"27\", \"28\", \"29\", \"30\", \"34\", \"35\"], \"mode\": \"markers\", \"name\": \"recall_score_weighted\", \"stepped\": false, \"type\": \"scatter\", \"data\": [0.7948948948948948, 0.8082882882882884, 0.7902102102102102, 0.8215015015015016, 0.7948948948948948, 0.7097297297297297, 0.7230030030030029, 0.7099099099099099, 0.7455855855855855, 0.7634234234234234, 0.8437837837837838, 0.8081081081081081, 0.8393393393393392, 0.7724924924924926, 0.8081681681681682, 0.8037837837837838, 0.6919519519519519, 0.8081081081081081, 0.8261261261261262, 0.7545345345345346, 0.8305705705705706, 0.8215615615615616, 0.7321921921921922, 0.7231231231231231, 0.732072072072072, 0.8438438438438439, 0.7186786786786787, 0.8215615615615616, 0.8127327327327327, 0.8125525525525527, 0.834954954954955, 0.866126126126126, 0.8171171171171171]}, {\"categories\": [\"0\", \"1\", \"2\", \"3\", \"4\", \"5\", \"6\", \"7\", \"8\", \"9\", \"10\", \"11\", \"12\", \"13\", \"14\", \"15\", \"16\", \"17\", \"18\", \"19\", \"20\", \"21\", \"22\", \"23\", \"24\", \"25\", \"26\", \"27\", \"28\", \"29\", \"30\", \"34\", \"35\"], \"mode\": \"lines\", \"name\": \"recall_score_weighted_max\", \"stepped\": true, \"type\": \"scatter\", \"data\": [0.7948948948948948, 0.8082882882882884, 0.8082882882882884, 0.8215015015015016, 0.8215015015015016, 0.8215015015015016, 0.8215015015015016, 0.8215015015015016, 0.8215015015015016, 0.8215015015015016, 0.8437837837837838, 0.8437837837837838, 0.8437837837837838, 0.8437837837837838, 0.8437837837837838, 0.8437837837837838, 0.8437837837837838, 0.8437837837837838, 0.8437837837837838, 0.8437837837837838, 0.8437837837837838, 0.8437837837837838, 0.8437837837837838, 0.8437837837837838, 0.8437837837837838, 0.8438438438438439, 0.8438438438438439, 0.8438438438438439, 0.8438438438438439, 0.8438438438438439, 0.8438438438438439, 0.866126126126126, 0.866126126126126]}], \"average_precision_score_weighted\": [{\"categories\": [\"0\", \"1\", \"2\", \"3\", \"4\", \"5\", \"6\", \"7\", \"8\", \"9\", \"10\", \"11\", \"12\", \"13\", \"14\", \"15\", \"16\", \"17\", \"18\", \"19\", \"20\", \"21\", \"22\", \"23\", \"24\", \"25\", \"26\", \"27\", \"28\", \"29\", \"30\", \"34\", \"35\"], \"mode\": \"markers\", \"name\": \"average_precision_score_weighted\", \"stepped\": false, \"type\": \"scatter\", \"data\": [0.8798141651877996, 0.8999413484109287, 0.9088109043256667, 0.9063273009989237, 0.8920800751024599, 0.7332111012649459, 0.7262538311561165, 0.7546384009590449, 0.7890492984863225, 0.9148749067074907, 0.9117044900478016, 0.9001674938909776, 0.9073270616154603, 0.9036284558350139, 0.8976035775265734, 0.8821374277982796, 0.8772914120714209, 0.8898988022420901, 0.8897691897741802, 0.8934521899834915, 0.9012161039866741, 0.8949347127213693, 0.7512594902751734, 0.8801002718030868, 0.887731995684306, 0.9205876426345995, 0.8466893482951233, 0.8972811205198798, 0.8811541692917921, 0.9085678893861197, 0.9065123504672236, 0.9175516663682496, 0.918956577293696]}, {\"categories\": [\"0\", \"1\", \"2\", \"3\", \"4\", \"5\", \"6\", \"7\", \"8\", \"9\", \"10\", \"11\", \"12\", \"13\", \"14\", \"15\", \"16\", \"17\", \"18\", \"19\", \"20\", \"21\", \"22\", \"23\", \"24\", \"25\", \"26\", \"27\", \"28\", \"29\", \"30\", \"34\", \"35\"], \"mode\": \"lines\", \"name\": \"average_precision_score_weighted_max\", \"stepped\": true, \"type\": \"scatter\", \"data\": [0.8798141651877996, 0.8999413484109287, 0.9088109043256667, 0.9088109043256667, 0.9088109043256667, 0.9088109043256667, 0.9088109043256667, 0.9088109043256667, 0.9088109043256667, 0.9148749067074907, 0.9148749067074907, 0.9148749067074907, 0.9148749067074907, 0.9148749067074907, 0.9148749067074907, 0.9148749067074907, 0.9148749067074907, 0.9148749067074907, 0.9148749067074907, 0.9148749067074907, 0.9148749067074907, 0.9148749067074907, 0.9148749067074907, 0.9148749067074907, 0.9148749067074907, 0.9205876426345995, 0.9205876426345995, 0.9205876426345995, 0.9205876426345995, 0.9205876426345995, 0.9205876426345995, 0.9205876426345995, 0.9205876426345995]}], \"average_precision_score_micro\": [{\"categories\": [\"0\", \"1\", \"2\", \"3\", \"4\", \"5\", \"6\", \"7\", \"8\", \"9\", \"10\", \"11\", \"12\", \"13\", \"14\", \"15\", \"16\", \"17\", \"18\", \"19\", \"20\", \"21\", \"22\", \"23\", \"24\", \"25\", \"26\", \"27\", \"28\", \"29\", \"30\", \"34\", \"35\"], \"mode\": \"markers\", \"name\": \"average_precision_score_micro\", \"stepped\": false, \"type\": \"scatter\", \"data\": [0.8852820470588277, 0.9028689808574812, 0.9044287606282637, 0.9155201576961519, 0.8863362220744269, 0.7600627749919643, 0.7572729761744063, 0.7773807328863539, 0.7986005987098798, 0.882636215995582, 0.9072775260778129, 0.9044719642558753, 0.9168423222310778, 0.8895399484575929, 0.8845551284530293, 0.8810712937014813, 0.8499525262853505, 0.8767911069445917, 0.8993434509381043, 0.8794651044723049, 0.9079081016781281, 0.9051433516711485, 0.7707760808527059, 0.8602085665416267, 0.8705048159231855, 0.9220504667126687, 0.8349928413482507, 0.9023963410503878, 0.877849324054608, 0.9159003863217764, 0.9048653177668361, 0.9144514847971504, 0.883478571118335]}, {\"categories\": [\"0\", \"1\", \"2\", \"3\", \"4\", \"5\", \"6\", \"7\", \"8\", \"9\", \"10\", \"11\", \"12\", \"13\", \"14\", \"15\", \"16\", \"17\", \"18\", \"19\", \"20\", \"21\", \"22\", \"23\", \"24\", \"25\", \"26\", \"27\", \"28\", \"29\", \"30\", \"34\", \"35\"], \"mode\": \"lines\", \"name\": \"average_precision_score_micro_max\", \"stepped\": true, \"type\": \"scatter\", \"data\": [0.8852820470588277, 0.9028689808574812, 0.9044287606282637, 0.9155201576961519, 0.9155201576961519, 0.9155201576961519, 0.9155201576961519, 0.9155201576961519, 0.9155201576961519, 0.9155201576961519, 0.9155201576961519, 0.9155201576961519, 0.9168423222310778, 0.9168423222310778, 0.9168423222310778, 0.9168423222310778, 0.9168423222310778, 0.9168423222310778, 0.9168423222310778, 0.9168423222310778, 0.9168423222310778, 0.9168423222310778, 0.9168423222310778, 0.9168423222310778, 0.9168423222310778, 0.9220504667126687, 0.9220504667126687, 0.9220504667126687, 0.9220504667126687, 0.9220504667126687, 0.9220504667126687, 0.9220504667126687, 0.9220504667126687]}], \"log_loss\": [{\"categories\": [\"0\", \"1\", \"2\", \"3\", \"4\", \"5\", \"6\", \"7\", \"8\", \"9\", \"10\", \"11\", \"12\", \"13\", \"14\", \"15\", \"16\", \"17\", \"18\", \"19\", \"20\", \"21\", \"22\", \"23\", \"24\", \"25\", \"26\", \"27\", \"28\", \"29\", \"30\", \"34\", \"35\"], \"mode\": \"markers\", \"name\": \"log_loss\", \"stepped\": false, \"type\": \"scatter\", \"data\": [0.5062274734622739, 0.39481046435108763, 0.4155375307610097, 0.39014778119416055, 0.47028853193730247, 0.5841686078570104, 0.5965919379781762, 0.5712966132848916, 0.5428614517419263, 0.4776949231892691, 0.429285193308451, 0.40623505292434686, 0.3766516563118331, 0.46914493460448825, 0.4611373891975313, 0.47693866333484686, 0.5585248783268386, 0.4691870250673791, 0.4013579428122432, 0.493331554512332, 0.3887408902909237, 0.39294936124025964, 0.5703543609219067, 0.5379678752458655, 0.5163570085187666, 0.36400928514951875, 0.5231096573691837, 0.4140600995548224, 0.4535826777265812, 0.3774102909521857, 0.40046290194343176, 0.39072920461304617, 0.42750598659274264]}, {\"categories\": [\"0\", \"1\", \"2\", \"3\", \"4\", \"5\", \"6\", \"7\", \"8\", \"9\", \"10\", \"11\", \"12\", \"13\", \"14\", \"15\", \"16\", \"17\", \"18\", \"19\", \"20\", \"21\", \"22\", \"23\", \"24\", \"25\", \"26\", \"27\", \"28\", \"29\", \"30\", \"34\", \"35\"], \"mode\": \"lines\", \"name\": \"log_loss_min\", \"stepped\": true, \"type\": \"scatter\", \"data\": [0.5062274734622739, 0.39481046435108763, 0.39481046435108763, 0.39014778119416055, 0.39014778119416055, 0.39014778119416055, 0.39014778119416055, 0.39014778119416055, 0.39014778119416055, 0.39014778119416055, 0.39014778119416055, 0.39014778119416055, 0.3766516563118331, 0.3766516563118331, 0.3766516563118331, 0.3766516563118331, 0.3766516563118331, 0.3766516563118331, 0.3766516563118331, 0.3766516563118331, 0.3766516563118331, 0.3766516563118331, 0.3766516563118331, 0.3766516563118331, 0.3766516563118331, 0.36400928514951875, 0.36400928514951875, 0.36400928514951875, 0.36400928514951875, 0.36400928514951875, 0.36400928514951875, 0.36400928514951875, 0.36400928514951875]}], \"AUC_micro\": [{\"categories\": [\"0\", \"1\", \"2\", \"3\", \"4\", \"5\", \"6\", \"7\", \"8\", \"9\", \"10\", \"11\", \"12\", \"13\", \"14\", \"15\", \"16\", \"17\", \"18\", \"19\", \"20\", \"21\", \"22\", \"23\", \"24\", \"25\", \"26\", \"27\", \"28\", \"29\", \"30\", \"34\", \"35\"], \"mode\": \"markers\", \"name\": \"AUC_micro\", \"stepped\": false, \"type\": \"scatter\", \"data\": [0.8831689960230502, 0.9012120228336444, 0.8994789925060195, 0.9110111625138652, 0.8868994940886834, 0.7768837486134784, 0.7743988961934908, 0.7873460216973731, 0.8033933717501286, 0.875328636744853, 0.903232886940995, 0.8980406460514567, 0.9162940995049103, 0.8802076454833211, 0.8819261640018397, 0.8757245028812596, 0.8424877309742175, 0.8744385358331305, 0.8965837513188865, 0.8675604361117873, 0.9032582744907068, 0.9022786895003111, 0.7782769255742229, 0.8472861185509833, 0.8579487487487487, 0.9183935719503288, 0.8317162567973378, 0.8979144658171685, 0.8729582663744826, 0.9121826366907447, 0.9005287233179126, 0.9106636690744798, 0.890277271866461]}, {\"categories\": [\"0\", \"1\", \"2\", \"3\", \"4\", \"5\", \"6\", \"7\", \"8\", \"9\", \"10\", \"11\", \"12\", \"13\", \"14\", \"15\", \"16\", \"17\", \"18\", \"19\", \"20\", \"21\", \"22\", \"23\", \"24\", \"25\", \"26\", \"27\", \"28\", \"29\", \"30\", \"34\", \"35\"], \"mode\": \"lines\", \"name\": \"AUC_micro_max\", \"stepped\": true, \"type\": \"scatter\", \"data\": [0.8831689960230502, 0.9012120228336444, 0.9012120228336444, 0.9110111625138652, 0.9110111625138652, 0.9110111625138652, 0.9110111625138652, 0.9110111625138652, 0.9110111625138652, 0.9110111625138652, 0.9110111625138652, 0.9110111625138652, 0.9162940995049103, 0.9162940995049103, 0.9162940995049103, 0.9162940995049103, 0.9162940995049103, 0.9162940995049103, 0.9162940995049103, 0.9162940995049103, 0.9162940995049103, 0.9162940995049103, 0.9162940995049103, 0.9162940995049103, 0.9162940995049103, 0.9183935719503288, 0.9183935719503288, 0.9183935719503288, 0.9183935719503288, 0.9183935719503288, 0.9183935719503288, 0.9183935719503288, 0.9183935719503288]}], \"f1_score_macro\": [{\"categories\": [\"0\", \"1\", \"2\", \"3\", \"4\", \"5\", \"6\", \"7\", \"8\", \"9\", \"10\", \"11\", \"12\", \"13\", \"14\", \"15\", \"16\", \"17\", \"18\", \"19\", \"20\", \"21\", \"22\", \"23\", \"24\", \"25\", \"26\", \"27\", \"28\", \"29\", \"30\", \"34\", \"35\"], \"mode\": \"markers\", \"name\": \"f1_score_macro\", \"stepped\": false, \"type\": \"scatter\", \"data\": [0.7488741283304812, 0.7657019764862903, 0.7096062404671973, 0.785071779987666, 0.7697089654948681, 0.5967373860608232, 0.6098680397748937, 0.6092725683242924, 0.6402546126230337, 0.6345207716011877, 0.7990658309764811, 0.7540991427766993, 0.8032926926384835, 0.6703909610222998, 0.7396543276259159, 0.7346163986458616, 0.40857493948985296, 0.7365255322931352, 0.7847304194014671, 0.6268632625368868, 0.793847648952838, 0.7817751154960457, 0.5897609544421253, 0.511158215577583, 0.5448780487804877, 0.8098986357402369, 0.5411359201122292, 0.7827250974002123, 0.7557102984734563, 0.7709316536209476, 0.7936128777323747, 0.833098420599657, 0.7790349233948451]}, {\"categories\": [\"0\", \"1\", \"2\", \"3\", \"4\", \"5\", \"6\", \"7\", \"8\", \"9\", \"10\", \"11\", \"12\", \"13\", \"14\", \"15\", \"16\", \"17\", \"18\", \"19\", \"20\", \"21\", \"22\", \"23\", \"24\", \"25\", \"26\", \"27\", \"28\", \"29\", \"30\", \"34\", \"35\"], \"mode\": \"lines\", \"name\": \"f1_score_macro_max\", \"stepped\": true, \"type\": \"scatter\", \"data\": [0.7488741283304812, 0.7657019764862903, 0.7657019764862903, 0.785071779987666, 0.785071779987666, 0.785071779987666, 0.785071779987666, 0.785071779987666, 0.785071779987666, 0.785071779987666, 0.7990658309764811, 0.7990658309764811, 0.8032926926384835, 0.8032926926384835, 0.8032926926384835, 0.8032926926384835, 0.8032926926384835, 0.8032926926384835, 0.8032926926384835, 0.8032926926384835, 0.8032926926384835, 0.8032926926384835, 0.8032926926384835, 0.8032926926384835, 0.8032926926384835, 0.8098986357402369, 0.8098986357402369, 0.8098986357402369, 0.8098986357402369, 0.8098986357402369, 0.8098986357402369, 0.833098420599657, 0.833098420599657]}], \"f1_score_weighted\": [{\"categories\": [\"0\", \"1\", \"2\", \"3\", \"4\", \"5\", \"6\", \"7\", \"8\", \"9\", \"10\", \"11\", \"12\", \"13\", \"14\", \"15\", \"16\", \"17\", \"18\", \"19\", \"20\", \"21\", \"22\", \"23\", \"24\", \"25\", \"26\", \"27\", \"28\", \"29\", \"30\", \"34\", \"35\"], \"mode\": \"markers\", \"name\": \"f1_score_weighted\", \"stepped\": false, \"type\": \"scatter\", \"data\": [0.788960783837262, 0.8037004651710534, 0.7701031875281164, 0.8192069784689279, 0.7996499065842465, 0.6776609667046435, 0.6893204982651978, 0.684443516460758, 0.7113221984274616, 0.7135818403161203, 0.8361689256814904, 0.7961240958895673, 0.8366517995684383, 0.7385479223283483, 0.7902172271191056, 0.783283335912722, 0.5667540249241981, 0.78835970208652, 0.8201325115011949, 0.7073080720898558, 0.8267270498764359, 0.8170719641417316, 0.6825130716876683, 0.6322773295183818, 0.6545508239947264, 0.8406471175945254, 0.647772296963314, 0.8171746238847052, 0.799491230122809, 0.8081395284563698, 0.8285078778475005, 0.8613891083804335, 0.8139591176235385]}, {\"categories\": [\"0\", \"1\", \"2\", \"3\", \"4\", \"5\", \"6\", \"7\", \"8\", \"9\", \"10\", \"11\", \"12\", \"13\", \"14\", \"15\", \"16\", \"17\", \"18\", \"19\", \"20\", \"21\", \"22\", \"23\", \"24\", \"25\", \"26\", \"27\", \"28\", \"29\", \"30\", \"34\", \"35\"], \"mode\": \"lines\", \"name\": \"f1_score_weighted_max\", \"stepped\": true, \"type\": \"scatter\", \"data\": [0.788960783837262, 0.8037004651710534, 0.8037004651710534, 0.8192069784689279, 0.8192069784689279, 0.8192069784689279, 0.8192069784689279, 0.8192069784689279, 0.8192069784689279, 0.8192069784689279, 0.8361689256814904, 0.8361689256814904, 0.8366517995684383, 0.8366517995684383, 0.8366517995684383, 0.8366517995684383, 0.8366517995684383, 0.8366517995684383, 0.8366517995684383, 0.8366517995684383, 0.8366517995684383, 0.8366517995684383, 0.8366517995684383, 0.8366517995684383, 0.8366517995684383, 0.8406471175945254, 0.8406471175945254, 0.8406471175945254, 0.8406471175945254, 0.8406471175945254, 0.8406471175945254, 0.8613891083804335, 0.8613891083804335]}]}, \"metricName\": null, \"primaryMetricName\": \"accuracy\", \"showLegend\": false}, \"run_metrics\": [{\"name\": \"experiment_status\", \"run_id\": \"AutoML_d22489fc-a63f-41bb-9d47-f59ae655801d\", \"categories\": [0, 1, 2, 3, 4, 5, 6, 7, 8, 9, 10, 11, 12, 13], \"series\": [{\"data\": [\"DatasetEvaluation\", \"FeaturesGeneration\", \"DatasetFeaturization\", \"DatasetFeaturizationCompleted\", \"DatasetCrossValidationSplit\", \"ModelSelection\", \"BestRunExplainModel\", \"ModelExplanationDataSetSetup\", \"PickSurrogateModel\", \"EngineeredFeatureExplanations\", \"EngineeredFeatureExplanations\", \"RawFeaturesExplanations\", \"RawFeaturesExplanations\", \"BestRunExplainModel\"]}]}, {\"name\": \"experiment_status_description\", \"run_id\": \"AutoML_d22489fc-a63f-41bb-9d47-f59ae655801d\", \"categories\": [0, 1, 2, 3, 4, 5, 6, 7, 8, 9, 10, 11, 12, 13], \"series\": [{\"data\": [\"Gathering dataset statistics.\", \"Generating features for the dataset.\", \"Beginning to fit featurizers and featurize the dataset.\", \"Completed fit featurizers and featurizing the dataset.\", \"Generating individually featurized CV splits.\", \"Beginning model selection.\", \"Best run model explanations started\", \"Model explanations data setup completed\", \"Choosing LightGBM as the surrogate model for explanations\", \"Computation of engineered features started\", \"Computation of engineered features completed\", \"Computation of raw features started\", \"Computation of raw features completed\", \"Best run model explanations completed\"]}]}, {\"name\": \"recall_score_macro\", \"run_id\": \"AutoML_d22489fc-a63f-41bb-9d47-f59ae655801d\", \"categories\": [0], \"series\": [{\"data\": [0.8213972861371008]}]}, {\"name\": \"norm_macro_recall\", \"run_id\": \"AutoML_d22489fc-a63f-41bb-9d47-f59ae655801d\", \"categories\": [0], \"series\": [{\"data\": [0.6427945722742017]}]}, {\"name\": \"AUC_weighted\", \"run_id\": \"AutoML_d22489fc-a63f-41bb-9d47-f59ae655801d\", \"categories\": [0], \"series\": [{\"data\": [0.9103752541500257]}]}, {\"name\": \"log_loss\", \"run_id\": \"AutoML_d22489fc-a63f-41bb-9d47-f59ae655801d\", \"categories\": [0], \"series\": [{\"data\": [0.39072920461304617]}]}, {\"name\": \"average_precision_score_macro\", \"run_id\": \"AutoML_d22489fc-a63f-41bb-9d47-f59ae655801d\", \"categories\": [0], \"series\": [{\"data\": [0.888046372465075]}]}, {\"name\": \"AUC_macro\", \"run_id\": \"AutoML_d22489fc-a63f-41bb-9d47-f59ae655801d\", \"categories\": [0], \"series\": [{\"data\": [0.9103752541500256]}]}, {\"name\": \"matthews_correlation\", \"run_id\": \"AutoML_d22489fc-a63f-41bb-9d47-f59ae655801d\", \"categories\": [0], \"series\": [{\"data\": [0.6840897998034564]}]}, {\"name\": \"AUC_micro\", \"run_id\": \"AutoML_d22489fc-a63f-41bb-9d47-f59ae655801d\", \"categories\": [0], \"series\": [{\"data\": [0.9106636690744798]}]}, {\"name\": \"precision_score_macro\", \"run_id\": \"AutoML_d22489fc-a63f-41bb-9d47-f59ae655801d\", \"categories\": [0], \"series\": [{\"data\": [0.8654471523893431]}]}, {\"name\": \"f1_score_macro\", \"run_id\": \"AutoML_d22489fc-a63f-41bb-9d47-f59ae655801d\", \"categories\": [0], \"series\": [{\"data\": [0.833098420599657]}]}, {\"name\": \"balanced_accuracy\", \"run_id\": \"AutoML_d22489fc-a63f-41bb-9d47-f59ae655801d\", \"categories\": [0], \"series\": [{\"data\": [0.8213972861371008]}]}, {\"name\": \"average_precision_score_weighted\", \"run_id\": \"AutoML_d22489fc-a63f-41bb-9d47-f59ae655801d\", \"categories\": [0], \"series\": [{\"data\": [0.9175516663682496]}]}, {\"name\": \"recall_score_micro\", \"run_id\": \"AutoML_d22489fc-a63f-41bb-9d47-f59ae655801d\", \"categories\": [0], \"series\": [{\"data\": [0.866126126126126]}]}, {\"name\": \"weighted_accuracy\", \"run_id\": \"AutoML_d22489fc-a63f-41bb-9d47-f59ae655801d\", \"categories\": [0], \"series\": [{\"data\": [0.9001413777044823]}]}, {\"name\": \"recall_score_weighted\", \"run_id\": \"AutoML_d22489fc-a63f-41bb-9d47-f59ae655801d\", \"categories\": [0], \"series\": [{\"data\": [0.866126126126126]}]}, {\"name\": \"f1_score_weighted\", \"run_id\": \"AutoML_d22489fc-a63f-41bb-9d47-f59ae655801d\", \"categories\": [0], \"series\": [{\"data\": [0.8613891083804335]}]}, {\"name\": \"precision_score_micro\", \"run_id\": \"AutoML_d22489fc-a63f-41bb-9d47-f59ae655801d\", \"categories\": [0], \"series\": [{\"data\": [0.866126126126126]}]}, {\"name\": \"accuracy\", \"run_id\": \"AutoML_d22489fc-a63f-41bb-9d47-f59ae655801d\", \"categories\": [0], \"series\": [{\"data\": [0.866126126126126]}]}, {\"name\": \"average_precision_score_micro\", \"run_id\": \"AutoML_d22489fc-a63f-41bb-9d47-f59ae655801d\", \"categories\": [0], \"series\": [{\"data\": [0.9144514847971504]}]}, {\"name\": \"precision_score_weighted\", \"run_id\": \"AutoML_d22489fc-a63f-41bb-9d47-f59ae655801d\", \"categories\": [0], \"series\": [{\"data\": [0.8730415574157968]}]}, {\"name\": \"f1_score_micro\", \"run_id\": \"AutoML_d22489fc-a63f-41bb-9d47-f59ae655801d\", \"categories\": [0], \"series\": [{\"data\": [0.866126126126126]}]}], \"run_logs\": \"\\nRun is completed.\", \"graph\": {}, \"widget_settings\": {\"childWidgetDisplay\": \"popup\", \"send_telemetry\": false, \"log_level\": \"INFO\", \"sdk_version\": \"1.24.0\"}, \"loading\": false}"
          },
          "metadata": {}
        },
        {
          "output_type": "stream",
          "name": "stdout",
          "text": [
            "\n",
            "\n",
            "****************************************************************************************************\n",
            "DATA GUARDRAILS: \n",
            "\n",
            "TYPE:         Class balancing detection\n",
            "STATUS:       PASSED\n",
            "DESCRIPTION:  Your inputs were analyzed, and all classes are balanced in your training data.\n",
            "              Learn more about imbalanced data: https://aka.ms/AutomatedMLImbalancedData\n",
            "\n",
            "****************************************************************************************************\n",
            "\n",
            "TYPE:         Missing feature values imputation\n",
            "STATUS:       PASSED\n",
            "DESCRIPTION:  No feature missing values were detected in the training data.\n",
            "              Learn more about missing value imputation: https://aka.ms/AutomatedMLFeaturization\n",
            "\n",
            "****************************************************************************************************\n",
            "\n",
            "TYPE:         High cardinality feature detection\n",
            "STATUS:       PASSED\n",
            "DESCRIPTION:  Your inputs were analyzed, and no high cardinality features were detected.\n",
            "              Learn more about high cardinality feature handling: https://aka.ms/AutomatedMLFeaturization\n",
            "\n",
            "****************************************************************************************************\n",
            "\n",
            "****************************************************************************************************\n",
            "ITERATION: The iteration being evaluated.\n",
            "PIPELINE: A summary description of the pipeline being evaluated.\n",
            "DURATION: Time taken for the current iteration.\n",
            "METRIC: The result of computing score on the fitted pipeline.\n",
            "BEST: The best observed score thus far.\n",
            "****************************************************************************************************\n",
            "\n",
            " ITERATION   PIPELINE                                       DURATION      METRIC      BEST\n",
            "         0   MaxAbsScaler LightGBM                          0:00:39       0.7949    0.7949\n",
            "         1   MinMaxScaler RandomForest                      0:00:48       0.8083    0.8083\n",
            "         2   MinMaxScaler RandomForest                      0:00:42       0.7902    0.8083\n",
            "         3   MinMaxScaler RandomForest                      0:00:37       0.8215    0.8215\n",
            "         4   MinMaxScaler RandomForest                      0:00:42       0.7949    0.8215\n",
            "         5   MinMaxScaler SVM                               0:00:41       0.7097    0.8215\n",
            "         6   MinMaxScaler SVM                               0:00:46       0.7230    0.8215\n",
            "         7   MinMaxScaler SVM                               0:00:41       0.7099    0.8215\n",
            "        10   StandardScalerWrapper GradientBoosting         0:00:53       0.8438    0.8438\n",
            "        11   StandardScalerWrapper LightGBM                 0:00:44       0.8081    0.8438\n",
            "         8   RobustScaler SVM                               0:00:41       0.7456    0.8438\n",
            "         9   MaxAbsScaler RandomForest                      0:00:51       0.7634    0.8438\n",
            "        12   RobustScaler RandomForest                      0:00:44       0.8393    0.8438\n",
            "        13   MinMaxScaler LightGBM                          0:00:43       0.7725    0.8438\n",
            "        14   MaxAbsScaler ExtremeRandomTrees                0:00:46       0.8082    0.8438\n",
            "        15   StandardScalerWrapper LightGBM                 0:00:52       0.8038    0.8438\n",
            "        16   StandardScalerWrapper ExtremeRandomTrees       0:00:43       0.6920    0.8438\n",
            "        17   MaxAbsScaler ExtremeRandomTrees                0:00:37       0.8081    0.8438\n",
            "        18   StandardScalerWrapper LightGBM                 0:00:47       0.8261    0.8438\n",
            "        19   RobustScaler LightGBM                          0:00:47       0.7545    0.8438\n",
            "        20   MaxAbsScaler LightGBM                          0:00:37       0.8306    0.8438\n",
            "        21   StandardScalerWrapper LightGBM                 0:00:43       0.8216    0.8438\n",
            "        22   SparseNormalizer KNN                           0:00:47       0.7322    0.8438\n",
            "        23   MaxAbsScaler LightGBM                          0:00:42       0.7231    0.8438\n",
            "        24   StandardScalerWrapper LightGBM                 0:00:42       0.7321    0.8438\n",
            "        25   RobustScaler GradientBoosting                  0:00:42       0.8438    0.8438\n",
            "        26   SparseNormalizer ExtremeRandomTrees            0:00:41       0.7187    0.8438\n",
            "        27   StandardScalerWrapper LightGBM                 0:00:41       0.8216    0.8438\n",
            "        28   SparseNormalizer LightGBM                      0:00:46       0.8127    0.8438\n",
            "        29   MaxAbsScaler LightGBM                          0:00:49       0.8126    0.8438\n",
            "        30   RobustScaler GradientBoosting                  0:00:45       0.8350    0.8438\n",
            "        31                                                  0:03:22          nan    0.8438\n",
            "ERROR: {\n",
            "    \"additional_properties\": {},\n",
            "    \"error\": {\n",
            "        \"additional_properties\": {\n",
            "            \"debugInfo\": null\n",
            "        },\n",
            "        \"code\": \"UserError\",\n",
            "        \"severity\": null,\n",
            "        \"message\": \"Experiment timeout reached, please consider increasing your experiment timeout.\",\n",
            "        \"message_format\": \"Experiment timeout reached, please consider increasing your experiment timeout.\",\n",
            "        \"message_parameters\": {},\n",
            "        \"reference_code\": null,\n",
            "        \"details_uri\": null,\n",
            "        \"target\": null,\n",
            "        \"details\": [],\n",
            "        \"inner_error\": {\n",
            "            \"additional_properties\": {},\n",
            "            \"code\": \"ResourceExhausted\",\n",
            "            \"inner_error\": {\n",
            "                \"additional_properties\": {},\n",
            "                \"code\": \"Timeout\",\n",
            "                \"inner_error\": {\n",
            "                    \"additional_properties\": {},\n",
            "                    \"code\": \"ExperimentTimeoutForIterations\",\n",
            "                    \"inner_error\": null\n",
            "                }\n",
            "            }\n",
            "        }\n",
            "    },\n",
            "    \"correlation\": null,\n",
            "    \"environment\": null,\n",
            "    \"location\": null,\n",
            "    \"time\": {},\n",
            "    \"component_name\": null\n",
            "}\n",
            "        32                                                  0:02:25          nan    0.8438\n",
            "ERROR: {\n",
            "    \"additional_properties\": {},\n",
            "    \"error\": {\n",
            "        \"additional_properties\": {\n",
            "            \"debugInfo\": null\n",
            "        },\n",
            "        \"code\": \"UserError\",\n",
            "        \"severity\": null,\n",
            "        \"message\": \"Experiment timeout reached, please consider increasing your experiment timeout.\",\n",
            "        \"message_format\": \"Experiment timeout reached, please consider increasing your experiment timeout.\",\n",
            "        \"message_parameters\": {},\n",
            "        \"reference_code\": null,\n",
            "        \"details_uri\": null,\n",
            "        \"target\": null,\n",
            "        \"details\": [],\n",
            "        \"inner_error\": {\n",
            "            \"additional_properties\": {},\n",
            "            \"code\": \"ResourceExhausted\",\n",
            "            \"inner_error\": {\n",
            "                \"additional_properties\": {},\n",
            "                \"code\": \"Timeout\",\n",
            "                \"inner_error\": {\n",
            "                    \"additional_properties\": {},\n",
            "                    \"code\": \"ExperimentTimeoutForIterations\",\n",
            "                    \"inner_error\": null\n",
            "                }\n",
            "            }\n",
            "        }\n",
            "    },\n",
            "    \"correlation\": null,\n",
            "    \"environment\": null,\n",
            "    \"location\": null,\n",
            "    \"time\": {},\n",
            "    \"component_name\": null\n",
            "}\n",
            "        33                                                  0:01:01          nan    0.8438\n",
            "ERROR: {\n",
            "    \"additional_properties\": {},\n",
            "    \"error\": {\n",
            "        \"additional_properties\": {\n",
            "            \"debugInfo\": null\n",
            "        },\n",
            "        \"code\": \"UserError\",\n",
            "        \"severity\": null,\n",
            "        \"message\": \"Experiment timeout reached, please consider increasing your experiment timeout.\",\n",
            "        \"message_format\": \"Experiment timeout reached, please consider increasing your experiment timeout.\",\n",
            "        \"message_parameters\": {},\n",
            "        \"reference_code\": null,\n",
            "        \"details_uri\": null,\n",
            "        \"target\": null,\n",
            "        \"details\": [],\n",
            "        \"inner_error\": {\n",
            "            \"additional_properties\": {},\n",
            "            \"code\": \"ResourceExhausted\",\n",
            "            \"inner_error\": {\n",
            "                \"additional_properties\": {},\n",
            "                \"code\": \"Timeout\",\n",
            "                \"inner_error\": {\n",
            "                    \"additional_properties\": {},\n",
            "                    \"code\": \"ExperimentTimeoutForIterations\",\n",
            "                    \"inner_error\": null\n",
            "                }\n",
            "            }\n",
            "        }\n",
            "    },\n",
            "    \"correlation\": null,\n",
            "    \"environment\": null,\n",
            "    \"location\": null,\n",
            "    \"time\": {},\n",
            "    \"component_name\": null\n",
            "}\n",
            "        34    VotingEnsemble                                0:01:02       0.8661    0.8661\n",
            "        35    StackEnsemble                                 0:00:58       0.8171    0.8661\n"
          ]
        },
        {
          "output_type": "execute_result",
          "execution_count": 6,
          "data": {
            "text/plain": "{'runId': 'AutoML_d22489fc-a63f-41bb-9d47-f59ae655801d',\n 'target': 'p12',\n 'status': 'Completed',\n 'startTimeUtc': '2021-04-04T06:18:00.697983Z',\n 'endTimeUtc': '2021-04-04T06:54:15.748606Z',\n 'properties': {'num_iterations': '1000',\n  'training_type': 'TrainFull',\n  'acquisition_function': 'EI',\n  'primary_metric': 'accuracy',\n  'train_split': '0',\n  'acquisition_parameter': '0',\n  'num_cross_validation': '3',\n  'target': 'p12',\n  'AMLSettingsJsonString': '{\"path\":null,\"name\":\"Automlrun\",\"subscription_id\":\"48a74bb7-9950-4cc1-9caa-5d50f995cc55\",\"resource_group\":\"aml-quickstarts-141917\",\"workspace_name\":\"quick-starts-ws-141917\",\"region\":\"southcentralus\",\"compute_target\":\"p12\",\"spark_service\":null,\"azure_service\":\"remote\",\"many_models\":false,\"pipeline_fetch_max_batch_size\":1,\"enable_batch_run\":false,\"iterations\":1000,\"primary_metric\":\"accuracy\",\"task_type\":\"classification\",\"data_script\":null,\"validation_size\":0.0,\"n_cross_validations\":3,\"y_min\":null,\"y_max\":null,\"num_classes\":null,\"featurization\":\"auto\",\"_ignore_package_version_incompatibilities\":false,\"is_timeseries\":false,\"max_cores_per_iteration\":1,\"max_concurrent_iterations\":4,\"iteration_timeout_minutes\":null,\"mem_in_mb\":null,\"enforce_time_on_windows\":false,\"experiment_timeout_minutes\":30,\"experiment_exit_score\":null,\"whitelist_models\":null,\"blacklist_algos\":[\"XGBoostClassifier\",\"TensorFlowLinearClassifier\",\"TensorFlowDNN\"],\"supported_models\":[\"RandomForest\",\"GradientBoosting\",\"LogisticRegression\",\"ExtremeRandomTrees\",\"TensorFlowLinearClassifier\",\"LightGBM\",\"XGBoostClassifier\",\"DecisionTree\",\"KNN\",\"AveragedPerceptronClassifier\",\"LinearSVM\",\"MultinomialNaiveBayes\",\"SGD\",\"TensorFlowDNN\",\"SVM\",\"BernoulliNaiveBayes\"],\"private_models\":[],\"auto_blacklist\":true,\"blacklist_samples_reached\":false,\"exclude_nan_labels\":true,\"verbosity\":20,\"_debug_log\":\"azureml_automl.log\",\"show_warnings\":false,\"model_explainability\":true,\"service_url\":null,\"sdk_url\":null,\"sdk_packages\":null,\"enable_onnx_compatible_models\":false,\"enable_split_onnx_featurizer_estimator_models\":false,\"vm_type\":\"STANDARD_DS12_V2\",\"telemetry_verbosity\":20,\"send_telemetry\":true,\"enable_dnn\":false,\"scenario\":\"SDK-1.13.0\",\"environment_label\":null,\"save_mlflow\":false,\"force_text_dnn\":false,\"enable_feature_sweeping\":true,\"enable_early_stopping\":true,\"early_stopping_n_iters\":10,\"metrics\":null,\"enable_metric_confidence\":false,\"enable_ensembling\":true,\"enable_stack_ensembling\":true,\"ensemble_iterations\":15,\"enable_tf\":false,\"enable_subsampling\":null,\"subsample_seed\":null,\"enable_nimbusml\":false,\"enable_streaming\":false,\"force_streaming\":false,\"track_child_runs\":true,\"allowed_private_models\":[],\"label_column_name\":\"DEATH_EVENT\",\"weight_column_name\":null,\"cv_split_column_names\":null,\"enable_local_managed\":false,\"_local_managed_run_id\":null,\"cost_mode\":1,\"lag_length\":0,\"metric_operation\":\"maximize\",\"preprocess\":true}',\n  'DataPrepJsonString': '{\\\\\"training_data\\\\\": \\\\\"{\\\\\\\\\\\\\"blocks\\\\\\\\\\\\\": [{\\\\\\\\\\\\\"id\\\\\\\\\\\\\": \\\\\\\\\\\\\"ae009fa7-b094-4104-a3f4-e9b51e13acb8\\\\\\\\\\\\\", \\\\\\\\\\\\\"type\\\\\\\\\\\\\": \\\\\\\\\\\\\"Microsoft.DPrep.GetDatastoreFilesBlock\\\\\\\\\\\\\", \\\\\\\\\\\\\"arguments\\\\\\\\\\\\\": {\\\\\\\\\\\\\"datastores\\\\\\\\\\\\\": [{\\\\\\\\\\\\\"datastoreName\\\\\\\\\\\\\": \\\\\\\\\\\\\"workspaceblobstore\\\\\\\\\\\\\", \\\\\\\\\\\\\"path\\\\\\\\\\\\\": \\\\\\\\\\\\\"train.csv\\\\\\\\\\\\\", \\\\\\\\\\\\\"resourceGroup\\\\\\\\\\\\\": \\\\\\\\\\\\\"aml-quickstarts-141917\\\\\\\\\\\\\", \\\\\\\\\\\\\"subscription\\\\\\\\\\\\\": \\\\\\\\\\\\\"48a74bb7-9950-4cc1-9caa-5d50f995cc55\\\\\\\\\\\\\", \\\\\\\\\\\\\"workspaceName\\\\\\\\\\\\\": \\\\\\\\\\\\\"quick-starts-ws-141917\\\\\\\\\\\\\"}]}, \\\\\\\\\\\\\"localData\\\\\\\\\\\\\": {}, \\\\\\\\\\\\\"isEnabled\\\\\\\\\\\\\": true, \\\\\\\\\\\\\"name\\\\\\\\\\\\\": null, \\\\\\\\\\\\\"annotation\\\\\\\\\\\\\": null}, {\\\\\\\\\\\\\"id\\\\\\\\\\\\\": \\\\\\\\\\\\\"11d99c38-a988-43ec-a770-a4360a960412\\\\\\\\\\\\\", \\\\\\\\\\\\\"type\\\\\\\\\\\\\": \\\\\\\\\\\\\"Microsoft.DPrep.ParseDelimitedBlock\\\\\\\\\\\\\", \\\\\\\\\\\\\"arguments\\\\\\\\\\\\\": {\\\\\\\\\\\\\"columnHeadersMode\\\\\\\\\\\\\": 3, \\\\\\\\\\\\\"fileEncoding\\\\\\\\\\\\\": 0, \\\\\\\\\\\\\"handleQuotedLineBreaks\\\\\\\\\\\\\": false, \\\\\\\\\\\\\"preview\\\\\\\\\\\\\": false, \\\\\\\\\\\\\"separator\\\\\\\\\\\\\": \\\\\\\\\\\\\",\\\\\\\\\\\\\", \\\\\\\\\\\\\"skipRows\\\\\\\\\\\\\": 0, \\\\\\\\\\\\\"skipRowsMode\\\\\\\\\\\\\": 0}, \\\\\\\\\\\\\"localData\\\\\\\\\\\\\": {}, \\\\\\\\\\\\\"isEnabled\\\\\\\\\\\\\": true, \\\\\\\\\\\\\"name\\\\\\\\\\\\\": null, \\\\\\\\\\\\\"annotation\\\\\\\\\\\\\": null}, {\\\\\\\\\\\\\"id\\\\\\\\\\\\\": \\\\\\\\\\\\\"0f0780ba-4a2c-4fd9-8c0f-a5b54b319588\\\\\\\\\\\\\", \\\\\\\\\\\\\"type\\\\\\\\\\\\\": \\\\\\\\\\\\\"Microsoft.DPrep.DropColumnsBlock\\\\\\\\\\\\\", \\\\\\\\\\\\\"arguments\\\\\\\\\\\\\": {\\\\\\\\\\\\\"columns\\\\\\\\\\\\\": {\\\\\\\\\\\\\"type\\\\\\\\\\\\\": 0, \\\\\\\\\\\\\"details\\\\\\\\\\\\\": {\\\\\\\\\\\\\"selectedColumns\\\\\\\\\\\\\": [\\\\\\\\\\\\\"Path\\\\\\\\\\\\\"]}}}, \\\\\\\\\\\\\"localData\\\\\\\\\\\\\": {}, \\\\\\\\\\\\\"isEnabled\\\\\\\\\\\\\": true, \\\\\\\\\\\\\"name\\\\\\\\\\\\\": null, \\\\\\\\\\\\\"annotation\\\\\\\\\\\\\": null}, {\\\\\\\\\\\\\"id\\\\\\\\\\\\\": \\\\\\\\\\\\\"137fb717-3a78-47cf-87ab-b349c9d05126\\\\\\\\\\\\\", \\\\\\\\\\\\\"type\\\\\\\\\\\\\": \\\\\\\\\\\\\"Microsoft.DPrep.SetColumnTypesBlock\\\\\\\\\\\\\", \\\\\\\\\\\\\"arguments\\\\\\\\\\\\\": {\\\\\\\\\\\\\"columnConversion\\\\\\\\\\\\\": [{\\\\\\\\\\\\\"column\\\\\\\\\\\\\": {\\\\\\\\\\\\\"type\\\\\\\\\\\\\": 2, \\\\\\\\\\\\\"details\\\\\\\\\\\\\": {\\\\\\\\\\\\\"selectedColumn\\\\\\\\\\\\\": \\\\\\\\\\\\\"age\\\\\\\\\\\\\"}}, \\\\\\\\\\\\\"typeProperty\\\\\\\\\\\\\": 3}, {\\\\\\\\\\\\\"column\\\\\\\\\\\\\": {\\\\\\\\\\\\\"type\\\\\\\\\\\\\": 2, \\\\\\\\\\\\\"details\\\\\\\\\\\\\": {\\\\\\\\\\\\\"selectedColumn\\\\\\\\\\\\\": \\\\\\\\\\\\\"anaemia\\\\\\\\\\\\\"}}, \\\\\\\\\\\\\"typeProperty\\\\\\\\\\\\\": 2}, {\\\\\\\\\\\\\"column\\\\\\\\\\\\\": {\\\\\\\\\\\\\"type\\\\\\\\\\\\\": 2, \\\\\\\\\\\\\"details\\\\\\\\\\\\\": {\\\\\\\\\\\\\"selectedColumn\\\\\\\\\\\\\": \\\\\\\\\\\\\"creatinine_phosphokinase\\\\\\\\\\\\\"}}, \\\\\\\\\\\\\"typeProperty\\\\\\\\\\\\\": 2}, {\\\\\\\\\\\\\"column\\\\\\\\\\\\\": {\\\\\\\\\\\\\"type\\\\\\\\\\\\\": 2, \\\\\\\\\\\\\"details\\\\\\\\\\\\\": {\\\\\\\\\\\\\"selectedColumn\\\\\\\\\\\\\": \\\\\\\\\\\\\"diabetes\\\\\\\\\\\\\"}}, \\\\\\\\\\\\\"typeProperty\\\\\\\\\\\\\": 2}, {\\\\\\\\\\\\\"column\\\\\\\\\\\\\": {\\\\\\\\\\\\\"type\\\\\\\\\\\\\": 2, \\\\\\\\\\\\\"details\\\\\\\\\\\\\": {\\\\\\\\\\\\\"selectedColumn\\\\\\\\\\\\\": \\\\\\\\\\\\\"ejection_fraction\\\\\\\\\\\\\"}}, \\\\\\\\\\\\\"typeProperty\\\\\\\\\\\\\": 2}, {\\\\\\\\\\\\\"column\\\\\\\\\\\\\": {\\\\\\\\\\\\\"type\\\\\\\\\\\\\": 2, \\\\\\\\\\\\\"details\\\\\\\\\\\\\": {\\\\\\\\\\\\\"selectedColumn\\\\\\\\\\\\\": \\\\\\\\\\\\\"high_blood_pressure\\\\\\\\\\\\\"}}, \\\\\\\\\\\\\"typeProperty\\\\\\\\\\\\\": 2}, {\\\\\\\\\\\\\"column\\\\\\\\\\\\\": {\\\\\\\\\\\\\"type\\\\\\\\\\\\\": 2, \\\\\\\\\\\\\"details\\\\\\\\\\\\\": {\\\\\\\\\\\\\"selectedColumn\\\\\\\\\\\\\": \\\\\\\\\\\\\"platelets\\\\\\\\\\\\\"}}, \\\\\\\\\\\\\"typeProperty\\\\\\\\\\\\\": 3}, {\\\\\\\\\\\\\"column\\\\\\\\\\\\\": {\\\\\\\\\\\\\"type\\\\\\\\\\\\\": 2, \\\\\\\\\\\\\"details\\\\\\\\\\\\\": {\\\\\\\\\\\\\"selectedColumn\\\\\\\\\\\\\": \\\\\\\\\\\\\"serum_creatinine\\\\\\\\\\\\\"}}, \\\\\\\\\\\\\"typeProperty\\\\\\\\\\\\\": 3}, {\\\\\\\\\\\\\"column\\\\\\\\\\\\\": {\\\\\\\\\\\\\"type\\\\\\\\\\\\\": 2, \\\\\\\\\\\\\"details\\\\\\\\\\\\\": {\\\\\\\\\\\\\"selectedColumn\\\\\\\\\\\\\": \\\\\\\\\\\\\"serum_sodium\\\\\\\\\\\\\"}}, \\\\\\\\\\\\\"typeProperty\\\\\\\\\\\\\": 2}, {\\\\\\\\\\\\\"column\\\\\\\\\\\\\": {\\\\\\\\\\\\\"type\\\\\\\\\\\\\": 2, \\\\\\\\\\\\\"details\\\\\\\\\\\\\": {\\\\\\\\\\\\\"selectedColumn\\\\\\\\\\\\\": \\\\\\\\\\\\\"sex\\\\\\\\\\\\\"}}, \\\\\\\\\\\\\"typeProperty\\\\\\\\\\\\\": 2}, {\\\\\\\\\\\\\"column\\\\\\\\\\\\\": {\\\\\\\\\\\\\"type\\\\\\\\\\\\\": 2, \\\\\\\\\\\\\"details\\\\\\\\\\\\\": {\\\\\\\\\\\\\"selectedColumn\\\\\\\\\\\\\": \\\\\\\\\\\\\"smoking\\\\\\\\\\\\\"}}, \\\\\\\\\\\\\"typeProperty\\\\\\\\\\\\\": 2}, {\\\\\\\\\\\\\"column\\\\\\\\\\\\\": {\\\\\\\\\\\\\"type\\\\\\\\\\\\\": 2, \\\\\\\\\\\\\"details\\\\\\\\\\\\\": {\\\\\\\\\\\\\"selectedColumn\\\\\\\\\\\\\": \\\\\\\\\\\\\"time\\\\\\\\\\\\\"}}, \\\\\\\\\\\\\"typeProperty\\\\\\\\\\\\\": 2}, {\\\\\\\\\\\\\"column\\\\\\\\\\\\\": {\\\\\\\\\\\\\"type\\\\\\\\\\\\\": 2, \\\\\\\\\\\\\"details\\\\\\\\\\\\\": {\\\\\\\\\\\\\"selectedColumn\\\\\\\\\\\\\": \\\\\\\\\\\\\"DEATH_EVENT\\\\\\\\\\\\\"}}, \\\\\\\\\\\\\"typeProperty\\\\\\\\\\\\\": 2}]}, \\\\\\\\\\\\\"localData\\\\\\\\\\\\\": {}, \\\\\\\\\\\\\"isEnabled\\\\\\\\\\\\\": true, \\\\\\\\\\\\\"name\\\\\\\\\\\\\": null, \\\\\\\\\\\\\"annotation\\\\\\\\\\\\\": null}], \\\\\\\\\\\\\"inspectors\\\\\\\\\\\\\": [], \\\\\\\\\\\\\"meta\\\\\\\\\\\\\": {\\\\\\\\\\\\\"savedDatasetId\\\\\\\\\\\\\": \\\\\\\\\\\\\"5e80d85d-e2e3-4b62-b943-4139f50cfdcb\\\\\\\\\\\\\", \\\\\\\\\\\\\"datasetType\\\\\\\\\\\\\": \\\\\\\\\\\\\"tabular\\\\\\\\\\\\\", \\\\\\\\\\\\\"subscriptionId\\\\\\\\\\\\\": \\\\\\\\\\\\\"48a74bb7-9950-4cc1-9caa-5d50f995cc55\\\\\\\\\\\\\", \\\\\\\\\\\\\"workspaceId\\\\\\\\\\\\\": \\\\\\\\\\\\\"4983fcc6-ccd1-4649-bacf-3fd00fad24d9\\\\\\\\\\\\\", \\\\\\\\\\\\\"workspaceLocation\\\\\\\\\\\\\": \\\\\\\\\\\\\"southcentralus\\\\\\\\\\\\\", \\\\\\\\\\\\\"partition_keys\\\\\\\\\\\\\": \\\\\\\\\\\\\"true\\\\\\\\\\\\\"}}\\\\\", \\\\\"activities\\\\\": 0}',\n  'EnableSubsampling': None,\n  'runTemplate': 'AutoML',\n  'azureml.runsource': 'automl',\n  'display_task_type': 'classification',\n  'dependencies_versions': '{\"azureml-widgets\": \"1.24.0\", \"azureml-train\": \"1.24.0\", \"azureml-train-restclients-hyperdrive\": \"1.24.0\", \"azureml-train-core\": \"1.24.0\", \"azureml-train-automl\": \"1.24.0\", \"azureml-train-automl-runtime\": \"1.24.0\", \"azureml-train-automl-client\": \"1.24.0\", \"azureml-tensorboard\": \"1.24.0\", \"azureml-telemetry\": \"1.24.0\", \"azureml-sdk\": \"1.24.0\", \"azureml-samples\": \"0+unknown\", \"azureml-pipeline\": \"1.24.0\", \"azureml-pipeline-steps\": \"1.24.0\", \"azureml-pipeline-core\": \"1.24.0\", \"azureml-opendatasets\": \"1.24.0\", \"azureml-model-management-sdk\": \"1.0.1b6.post1\", \"azureml-mlflow\": \"1.24.0\", \"azureml-interpret\": \"1.24.0\", \"azureml-explain-model\": \"1.24.0\", \"azureml-defaults\": \"1.24.0\", \"azureml-dataset-runtime\": \"1.24.0\", \"azureml-dataprep\": \"2.11.1\", \"azureml-dataprep-rslex\": \"1.9.0\", \"azureml-dataprep-native\": \"30.0.0\", \"azureml-datadrift\": \"1.24.0\", \"azureml-core\": \"1.24.0\", \"azureml-contrib-services\": \"1.24.0\", \"azureml-contrib-server\": \"1.24.0\", \"azureml-contrib-reinforcementlearning\": \"1.24.0\", \"azureml-contrib-pipeline-steps\": \"1.24.0\", \"azureml-contrib-notebook\": \"1.24.0\", \"azureml-contrib-gbdt\": \"1.24.0\", \"azureml-contrib-fairness\": \"1.24.0\", \"azureml-contrib-dataset\": \"1.24.0\", \"azureml-cli-common\": \"1.24.0\", \"azureml-automl-runtime\": \"1.24.0\", \"azureml-automl-dnn-nlp\": \"1.24.0\", \"azureml-automl-core\": \"1.24.0\", \"azureml-accel-models\": \"1.24.0\"}',\n  '_aml_system_scenario_identification': 'Remote.Parent',\n  'ClientType': 'SDK',\n  'environment_cpu_name': 'AzureML-AutoML',\n  'environment_cpu_label': 'prod',\n  'environment_gpu_name': 'AzureML-AutoML-GPU',\n  'environment_gpu_label': 'prod',\n  'root_attribution': 'automl',\n  'attribution': 'AutoML',\n  'Orchestrator': 'AutoML',\n  'CancelUri': 'https://southcentralus.experiments.azureml.net/jasmine/v1.0/subscriptions/48a74bb7-9950-4cc1-9caa-5d50f995cc55/resourceGroups/aml-quickstarts-141917/providers/Microsoft.MachineLearningServices/workspaces/quick-starts-ws-141917/experimentids/abc04027-236b-416d-b421-e43e6d6f13a5/cancel/AutoML_d22489fc-a63f-41bb-9d47-f59ae655801d',\n  'ClientSdkVersion': '1.24.0',\n  'snapshotId': '00000000-0000-0000-0000-000000000000',\n  'SetupRunId': 'AutoML_d22489fc-a63f-41bb-9d47-f59ae655801d_setup',\n  'SetupRunContainerId': 'dcid.AutoML_d22489fc-a63f-41bb-9d47-f59ae655801d_setup',\n  'FeaturizationRunJsonPath': 'featurizer_container.json',\n  'FeaturizationRunId': 'AutoML_d22489fc-a63f-41bb-9d47-f59ae655801d_featurize',\n  'ProblemInfoJsonString': '{\"dataset_num_categorical\": 0, \"is_sparse\": false, \"subsampling\": false, \"dataset_classes\": 2, \"dataset_features\": 12, \"dataset_samples\": 224, \"single_frequency_class_detected\": false}',\n  'ModelExplainRunId': 'AutoML_d22489fc-a63f-41bb-9d47-f59ae655801d_ModelExplain'},\n 'inputDatasets': [{'dataset': {'id': '5e80d85d-e2e3-4b62-b943-4139f50cfdcb'}, 'consumptionDetails': {'type': 'RunInput', 'inputName': 'training_data', 'mechanism': 'Direct'}}],\n 'outputDatasets': [],\n 'logFiles': {},\n 'submittedBy': 'ODL_User 141917'}"
          },
          "metadata": {}
        }
      ],
      "execution_count": 6,
      "metadata": {
        "gather": {
          "logged": 1617519458634
        },
        "jupyter": {
          "outputs_hidden": false,
          "source_hidden": false
        },
        "nteract": {
          "transient": {
            "deleting": false
          }
        }
      }
    },
    {
      "cell_type": "markdown",
      "source": [
        "## Best Model\n",
        "\n",
        "TODO: In the cell below, get the best model from the automl experiments and display all the properties of the model.\n",
        "\n"
      ],
      "metadata": {}
    },
    {
      "cell_type": "code",
      "source": [
        "!pip install xgboost==0.90"
      ],
      "outputs": [
        {
          "output_type": "stream",
          "name": "stdout",
          "text": [
            "Collecting xgboost==0.90\n",
            "  Downloading xgboost-0.90-py2.py3-none-manylinux1_x86_64.whl (142.8 MB)\n",
            "\u001b[K     |████████████████████████████████| 142.8 MB 28 kB/s s eta 0:00:01\n",
            "\u001b[?25hRequirement already satisfied: numpy in /anaconda/envs/azureml_py36/lib/python3.6/site-packages (from xgboost==0.90) (1.18.5)\n",
            "Requirement already satisfied: scipy in /anaconda/envs/azureml_py36/lib/python3.6/site-packages (from xgboost==0.90) (1.4.1)\n",
            "Installing collected packages: xgboost\n",
            "  Attempting uninstall: xgboost\n",
            "    Found existing installation: xgboost 1.3.3\n",
            "    Uninstalling xgboost-1.3.3:\n",
            "      Successfully uninstalled xgboost-1.3.3\n",
            "Successfully installed xgboost-0.90\n"
          ]
        }
      ],
      "execution_count": 7,
      "metadata": {
        "collapsed": true,
        "jupyter": {
          "source_hidden": false,
          "outputs_hidden": false
        },
        "nteract": {
          "transient": {
            "deleting": false
          }
        }
      }
    },
    {
      "cell_type": "code",
      "source": [
        "best_run, model = remote_run.get_output()\n",
        "print(best_run)\n",
        "print(model)\n",
        "best_run.get_tags()\n",
        "best_run_metrics = best_run.get_metrics()\n",
        "for metric_name in best_run_metrics:\n",
        "    metric = best_run_metrics[metric_name]\n",
        "    print(metric_name, metric)"
      ],
      "outputs": [
        {
          "output_type": "stream",
          "name": "stdout",
          "text": [
            "Run(Experiment: Automlrun,\n",
            "Id: AutoML_d22489fc-a63f-41bb-9d47-f59ae655801d_34,\n",
            "Type: azureml.scriptrun,\n",
            "Status: Completed)\n",
            "Pipeline(memory=None,\n",
            "         steps=[('datatransformer',\n",
            "                 DataTransformer(enable_dnn=None, enable_feature_sweeping=None,\n",
            "                                 feature_sweeping_config=None,\n",
            "                                 feature_sweeping_timeout=None,\n",
            "                                 featurization_config=None, force_text_dnn=None,\n",
            "                                 is_cross_validation=None,\n",
            "                                 is_onnx_compatible=None, logger=None,\n",
            "                                 observer=None, task=None, working_dir=None)),\n",
            "                ('prefittedsoftvotingclassifier',...\n",
            "                                                                                                reg_alpha=0.3157894736842105,\n",
            "                                                                                                reg_lambda=0.05263157894736842,\n",
            "                                                                                                silent=True,\n",
            "                                                                                                subsample=1,\n",
            "                                                                                                subsample_for_bin=200000,\n",
            "                                                                                                subsample_freq=0,\n",
            "                                                                                                verbose=-10))],\n",
            "                                                                     verbose=False))],\n",
            "                                               flatten_transform=None,\n",
            "                                               weights=[0.08333333333333333,\n",
            "                                                        0.16666666666666666,\n",
            "                                                        0.16666666666666666,\n",
            "                                                        0.25,\n",
            "                                                        0.08333333333333333,\n",
            "                                                        0.08333333333333333,\n",
            "                                                        0.08333333333333333,\n",
            "                                                        0.08333333333333333]))],\n",
            "         verbose=False)\n",
            "accuracy 0.866126126126126\n",
            "precision_score_micro 0.866126126126126\n",
            "average_precision_score_weighted 0.9175516663682496\n",
            "balanced_accuracy 0.8213972861371008\n",
            "recall_score_macro 0.8213972861371008\n",
            "f1_score_weighted 0.8613891083804335\n",
            "recall_score_micro 0.866126126126126\n",
            "precision_score_weighted 0.8730415574157968\n",
            "norm_macro_recall 0.6427945722742017\n",
            "log_loss 0.39072920461304617\n",
            "weighted_accuracy 0.9001413777044823\n",
            "AUC_micro 0.9106636690744798\n",
            "matthews_correlation 0.6840897998034564\n",
            "average_precision_score_micro 0.9144514847971504\n",
            "precision_score_macro 0.8654471523893431\n",
            "average_precision_score_macro 0.888046372465075\n",
            "recall_score_weighted 0.866126126126126\n",
            "AUC_weighted 0.9103752541500257\n",
            "f1_score_micro 0.866126126126126\n",
            "AUC_macro 0.9103752541500256\n",
            "f1_score_macro 0.833098420599657\n",
            "confusion_matrix aml://artifactId/ExperimentRun/dcid.AutoML_d22489fc-a63f-41bb-9d47-f59ae655801d_34/confusion_matrix\n",
            "accuracy_table aml://artifactId/ExperimentRun/dcid.AutoML_d22489fc-a63f-41bb-9d47-f59ae655801d_34/accuracy_table\n"
          ]
        }
      ],
      "execution_count": 8,
      "metadata": {
        "gather": {
          "logged": 1617519497023
        },
        "jupyter": {
          "outputs_hidden": false,
          "source_hidden": false
        },
        "nteract": {
          "transient": {
            "deleting": false
          }
        }
      }
    },
    {
      "cell_type": "code",
      "source": [
        "best_run_metrics"
      ],
      "outputs": [
        {
          "output_type": "execute_result",
          "execution_count": 9,
          "data": {
            "text/plain": "{'accuracy': 0.866126126126126,\n 'precision_score_micro': 0.866126126126126,\n 'average_precision_score_weighted': 0.9175516663682496,\n 'balanced_accuracy': 0.8213972861371008,\n 'recall_score_macro': 0.8213972861371008,\n 'f1_score_weighted': 0.8613891083804335,\n 'recall_score_micro': 0.866126126126126,\n 'precision_score_weighted': 0.8730415574157968,\n 'norm_macro_recall': 0.6427945722742017,\n 'log_loss': 0.39072920461304617,\n 'weighted_accuracy': 0.9001413777044823,\n 'AUC_micro': 0.9106636690744798,\n 'matthews_correlation': 0.6840897998034564,\n 'average_precision_score_micro': 0.9144514847971504,\n 'precision_score_macro': 0.8654471523893431,\n 'average_precision_score_macro': 0.888046372465075,\n 'recall_score_weighted': 0.866126126126126,\n 'AUC_weighted': 0.9103752541500257,\n 'f1_score_micro': 0.866126126126126,\n 'AUC_macro': 0.9103752541500256,\n 'f1_score_macro': 0.833098420599657,\n 'confusion_matrix': 'aml://artifactId/ExperimentRun/dcid.AutoML_d22489fc-a63f-41bb-9d47-f59ae655801d_34/confusion_matrix',\n 'accuracy_table': 'aml://artifactId/ExperimentRun/dcid.AutoML_d22489fc-a63f-41bb-9d47-f59ae655801d_34/accuracy_table'}"
          },
          "metadata": {}
        }
      ],
      "execution_count": 9,
      "metadata": {
        "collapsed": true,
        "jupyter": {
          "source_hidden": false,
          "outputs_hidden": false
        },
        "nteract": {
          "transient": {
            "deleting": false
          }
        },
        "gather": {
          "logged": 1617519497262
        }
      }
    }
  ],
  "metadata": {
    "kernel_info": {
      "name": "python3"
    },
    "kernelspec": {
      "name": "python3",
      "language": "python",
      "display_name": "Python 3"
    },
    "language_info": {
      "name": "python",
      "version": "3.6.9",
      "mimetype": "text/x-python",
      "codemirror_mode": {
        "name": "ipython",
        "version": 3
      },
      "pygments_lexer": "ipython3",
      "nbconvert_exporter": "python",
      "file_extension": ".py"
    },
    "nteract": {
      "version": "nteract-front-end@1.0.0"
    },
    "microsoft": {
      "host": {
        "AzureML": {
          "notebookHasBeenCompleted": true
        }
      }
    }
  },
  "nbformat": 4,
  "nbformat_minor": 2
}